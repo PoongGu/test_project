{
  "cells": [
    {
      "cell_type": "markdown",
      "metadata": {
        "id": "view-in-github",
        "colab_type": "text"
      },
      "source": [
        "<a href=\"https://colab.research.google.com/github/PoongGu/test_project/blob/main/lesson_10_Loop2_for_else_continue.ipynb\" target=\"_parent\"><img src=\"https://colab.research.google.com/assets/colab-badge.svg\" alt=\"Open In Colab\"/></a>"
      ]
    },
    {
      "cell_type": "markdown",
      "metadata": {
        "id": "5VYDtipjFPr2"
      },
      "source": [
        "### for loop 2"
      ]
    },
    {
      "cell_type": "markdown",
      "metadata": {
        "id": "7AZVrKX7FPr9"
      },
      "source": [
        "##### zip을 이용한 받아주기"
      ]
    },
    {
      "cell_type": "code",
      "execution_count": 4,
      "metadata": {
        "ExecuteTime": {
          "end_time": "2021-02-05T05:08:34.138928Z",
          "start_time": "2021-02-05T05:08:34.133941Z"
        },
        "id": "Zwl9up5qFPr9"
      },
      "outputs": [],
      "source": [
        "corp = ['google','facebook','apple','tesla']\n",
        "prod = ['chrome','libra','iphone','e-car']\n",
        "rank = [1, 3, 2, 4]\n",
        "\n",
        "# for c, p, r in zip(corp, prod, rank):\n",
        "#     print(c, p, r)\n"
      ]
    },
    {
      "cell_type": "code",
      "source": [
        "for idx, j in enumerate(zip(corp, prod)):\n",
        "  print(j[0], j[1], idx+1)"
      ],
      "metadata": {
        "id": "SOyMq28zGSRg",
        "colab": {
          "base_uri": "https://localhost:8080/"
        },
        "outputId": "6b59ccf2-8f35-4b82-d0f2-73f8e6198682"
      },
      "execution_count": 5,
      "outputs": [
        {
          "output_type": "stream",
          "name": "stdout",
          "text": [
            "google chrome 1\n",
            "facebook libra 2\n",
            "apple iphone 3\n",
            "tesla e-car 4\n"
          ]
        }
      ]
    },
    {
      "cell_type": "code",
      "source": [
        "for idx, p in enumerate(corp):\n",
        "  print(idx, p)"
      ],
      "metadata": {
        "colab": {
          "base_uri": "https://localhost:8080/"
        },
        "id": "Pxe_WgTNMZRe",
        "outputId": "ee0f9dad-61ce-4ae2-99cf-aa834adb86f4"
      },
      "execution_count": 6,
      "outputs": [
        {
          "output_type": "stream",
          "name": "stdout",
          "text": [
            "0 google\n",
            "1 facebook\n",
            "2 apple\n",
            "3 tesla\n"
          ]
        }
      ]
    },
    {
      "cell_type": "markdown",
      "metadata": {
        "id": "9t3KOMlmFPr-"
      },
      "source": [
        "#### for문 continue\n",
        "    - continue를 사용 : for문의 조건문으로 돌아가서 루프를 실행(다음 순서로 진행)"
      ]
    },
    {
      "cell_type": "code",
      "execution_count": 8,
      "metadata": {
        "ExecuteTime": {
          "end_time": "2021-02-05T05:10:40.700023Z",
          "start_time": "2021-02-05T05:10:40.696033Z"
        },
        "id": "xyQVUuddFPr-",
        "outputId": "d1eab955-7266-473a-8720-d75b54f356ad",
        "colab": {
          "base_uri": "https://localhost:8080/"
        }
      },
      "outputs": [
        {
          "output_type": "stream",
          "name": "stdout",
          "text": [
            "홀수면 패스\n",
            "2\n",
            "홀수면 패스\n",
            "4\n",
            "홀수면 패스\n"
          ]
        }
      ],
      "source": [
        "ls = [1, 2, 3, 4, 5]\n",
        "\n",
        "for i in ls:\n",
        "  if i % 2:\n",
        "    print(\"홀수면 패스\")\n",
        "    continue\n",
        "    print(\"홀수\")\n",
        "  print(i)"
      ]
    },
    {
      "cell_type": "markdown",
      "metadata": {
        "id": "o-a7euWwFPr_"
      },
      "source": [
        "#### 중첩 for문"
      ]
    },
    {
      "cell_type": "code",
      "execution_count": 14,
      "metadata": {
        "ExecuteTime": {
          "end_time": "2021-02-05T05:14:59.585531Z",
          "start_time": "2021-02-05T05:14:59.579547Z"
        },
        "colab": {
          "base_uri": "https://localhost:8080/"
        },
        "id": "F09YEtypFPr_",
        "outputId": "b804b67d-bc47-425a-f160-0a401cdaad2a"
      },
      "outputs": [
        {
          "output_type": "stream",
          "name": "stdout",
          "text": [
            "2 x 1 = 2\t3 x 1 = 3\t4 x 1 = 4\t5 x 1 = 5\t6 x 1 = 6\t7 x 1 = 7\t8 x 1 = 8\t9 x 1 = 9\t\n",
            "2 x 2 = 4\t3 x 2 = 6\t4 x 2 = 8\t5 x 2 = 10\t6 x 2 = 12\t7 x 2 = 14\t8 x 2 = 16\t9 x 2 = 18\t\n",
            "2 x 3 = 6\t3 x 3 = 9\t4 x 3 = 12\t5 x 3 = 15\t6 x 3 = 18\t7 x 3 = 21\t8 x 3 = 24\t9 x 3 = 27\t\n",
            "2 x 4 = 8\t3 x 4 = 12\t4 x 4 = 16\t5 x 4 = 20\t6 x 4 = 24\t7 x 4 = 28\t8 x 4 = 32\t9 x 4 = 36\t\n",
            "2 x 5 = 10\t3 x 5 = 15\t4 x 5 = 20\t5 x 5 = 25\t6 x 5 = 30\t7 x 5 = 35\t8 x 5 = 40\t9 x 5 = 45\t\n",
            "2 x 6 = 12\t3 x 6 = 18\t4 x 6 = 24\t5 x 6 = 30\t6 x 6 = 36\t7 x 6 = 42\t8 x 6 = 48\t9 x 6 = 54\t\n",
            "2 x 7 = 14\t3 x 7 = 21\t4 x 7 = 28\t5 x 7 = 35\t6 x 7 = 42\t7 x 7 = 49\t8 x 7 = 56\t9 x 7 = 63\t\n",
            "2 x 8 = 16\t3 x 8 = 24\t4 x 8 = 32\t5 x 8 = 40\t6 x 8 = 48\t7 x 8 = 56\t8 x 8 = 64\t9 x 8 = 72\t\n",
            "2 x 9 = 18\t3 x 9 = 27\t4 x 9 = 36\t5 x 9 = 45\t6 x 9 = 54\t7 x 9 = 63\t8 x 9 = 72\t9 x 9 = 81\t\n"
          ]
        }
      ],
      "source": [
        "# 구구단 전체 출력해보기\n",
        "\n",
        "for i in range(1, 10):\n",
        "  for j in range(2, 10):\n",
        "    print(f\"{j} x {i} = {j*i}\", end=\"\\t\")\n",
        "  print(end=\"\\n\")"
      ]
    },
    {
      "cell_type": "markdown",
      "metadata": {
        "id": "_YpDYqZ5FPr_"
      },
      "source": [
        "#### list comprehension\n",
        "    - list 데이터를 만들 때 for문을 이용하여 생성\n",
        "    - 속도가 빠르고 ram을 적게 사용"
      ]
    },
    {
      "cell_type": "code",
      "execution_count": 15,
      "metadata": {
        "ExecuteTime": {
          "end_time": "2021-02-05T05:16:45.913248Z",
          "start_time": "2021-02-05T05:16:45.822490Z"
        },
        "id": "cv69Tn-EFPr_",
        "outputId": "2b2fe493-52ee-4aaa-ad1f-31aab525d670",
        "colab": {
          "base_uri": "https://localhost:8080/"
        }
      },
      "outputs": [
        {
          "output_type": "execute_result",
          "data": {
            "text/plain": [
              "[121, 144, 169, 196]"
            ]
          },
          "metadata": {},
          "execution_count": 15
        }
      ],
      "source": [
        "ls = [11, 12, 13, 14]\n",
        "# ls2 = ls ** 2\n",
        "ls2 = []\n",
        "for i in ls:\n",
        "  ls2.append(i**2)\n",
        "ls2"
      ]
    },
    {
      "cell_type": "code",
      "execution_count": 16,
      "metadata": {
        "ExecuteTime": {
          "end_time": "2021-02-05T05:17:50.965517Z",
          "start_time": "2021-02-05T05:17:50.960530Z"
        },
        "id": "bMuXEsdHFPsA",
        "outputId": "359f3d6d-2ff6-4ac9-df97-1cbde39825a9",
        "colab": {
          "base_uri": "https://localhost:8080/"
        }
      },
      "outputs": [
        {
          "output_type": "execute_result",
          "data": {
            "text/plain": [
              "[121, 144, 169, 196]"
            ]
          },
          "metadata": {},
          "execution_count": 16
        }
      ],
      "source": [
        "ls3 = [i**2 for i in ls]\n",
        "ls3"
      ]
    },
    {
      "cell_type": "code",
      "execution_count": 17,
      "metadata": {
        "ExecuteTime": {
          "end_time": "2021-02-05T05:21:02.960104Z",
          "start_time": "2021-02-05T05:21:02.955117Z"
        },
        "id": "uZJ-8EY6FPsB",
        "outputId": "e00c1033-b621-43aa-959e-722d89ab2a95",
        "colab": {
          "base_uri": "https://localhost:8080/"
        }
      },
      "outputs": [
        {
          "output_type": "execute_result",
          "data": {
            "text/plain": [
              "[1, '짝수', 3, '짝수', 5, '짝수', 7, '짝수', 9, '짝수']"
            ]
          },
          "metadata": {},
          "execution_count": 17
        }
      ],
      "source": [
        "# 10까지 자연수를 출력하면서 짝수는 '짝수'로 홀수는 그 숫자를 출력한다.\n",
        "# comprehension 을 이용해보자.\n",
        "\n",
        "[data if data % 2 else \"짝수\" for data in range(1, 11)]\n"
      ]
    },
    {
      "cell_type": "markdown",
      "metadata": {
        "id": "CxxJu0ryFPsB"
      },
      "source": [
        "### Quiz\n",
        "    이중 for문을 이용하여 2차원 배열의 원소들 합을 1차원으로 나타내기\n",
        "                                                                      행렬 표현 (2x3)\n",
        "$$\n",
        "    \\begin{pmatrix}\n",
        "    A00 & A01 & A02 \\\\\n",
        "    A10 & A11 & A12 \\\\\n",
        "    \\end{pmatrix}\n",
        "$$"
      ]
    },
    {
      "cell_type": "markdown",
      "metadata": {
        "id": "ialkEGFHFPsB"
      },
      "source": [
        "$$\n",
        "    \\begin{pmatrix}\n",
        "    2 & 4 \\\\\n",
        "    6 & 8 \\\\\n",
        "    \\end{pmatrix}\n",
        "    +\n",
        "    \\begin{pmatrix}\n",
        "    1 & 3 \\\\\n",
        "    5 & 7 \\\\\n",
        "    \\end{pmatrix}\n",
        "    =\n",
        "    \\begin{pmatrix}\n",
        "    3 & 7 \\\\\n",
        "    11 & 15 \\\\\n",
        "    \\end{pmatrix}\n",
        "$$"
      ]
    },
    {
      "cell_type": "code",
      "execution_count": 19,
      "metadata": {
        "id": "PLIkX7y_FPsB",
        "colab": {
          "base_uri": "https://localhost:8080/"
        },
        "outputId": "ea1e27e7-b6d9-404b-e6a9-12e34959cbac"
      },
      "outputs": [
        {
          "output_type": "execute_result",
          "data": {
            "text/plain": [
              "[3, 7, 11, 15]"
            ]
          },
          "metadata": {},
          "execution_count": 19
        }
      ],
      "source": [
        "m1 = [[2, 4], [6, 8]]\n",
        "m2 = [[1, 3], [5, 7]]\n",
        "\n",
        "result = []\n",
        "\n",
        "for i in range(len(m1)):\n",
        "  for j in range(len(m2)):\n",
        "    result.append(m1[i][j] + m2[i][j])\n",
        "\n",
        "result"
      ]
    },
    {
      "cell_type": "code",
      "source": [
        "res2 = [m1[i][j] + m2[i][j] for i in range(len(m1)) for j in range(len(m2))]\n",
        "print(res2)"
      ],
      "metadata": {
        "id": "sBvtKXm0HWm4",
        "colab": {
          "base_uri": "https://localhost:8080/"
        },
        "outputId": "978b8530-d4ed-4e70-f017-fdd236874b3c"
      },
      "execution_count": 22,
      "outputs": [
        {
          "output_type": "stream",
          "name": "stdout",
          "text": [
            "[3, 7, 11, 15]\n"
          ]
        }
      ]
    },
    {
      "cell_type": "code",
      "source": [
        ""
      ],
      "metadata": {
        "id": "5fMrnG2dObsq"
      },
      "execution_count": null,
      "outputs": []
    }
  ],
  "metadata": {
    "hide_input": false,
    "kernelspec": {
      "display_name": "Python 3",
      "language": "python",
      "name": "python3"
    },
    "language_info": {
      "codemirror_mode": {
        "name": "ipython",
        "version": 3
      },
      "file_extension": ".py",
      "mimetype": "text/x-python",
      "name": "python",
      "nbconvert_exporter": "python",
      "pygments_lexer": "ipython3",
      "version": "3.8.5"
    },
    "toc": {
      "base_numbering": 1,
      "nav_menu": {},
      "number_sections": true,
      "sideBar": true,
      "skip_h1_title": false,
      "title_cell": "Table of Contents",
      "title_sidebar": "Contents",
      "toc_cell": false,
      "toc_position": {},
      "toc_section_display": true,
      "toc_window_display": false
    },
    "varInspector": {
      "cols": {
        "lenName": 16,
        "lenType": 16,
        "lenVar": 40
      },
      "kernels_config": {
        "python": {
          "delete_cmd_postfix": "",
          "delete_cmd_prefix": "del ",
          "library": "var_list.py",
          "varRefreshCmd": "print(var_dic_list())"
        },
        "r": {
          "delete_cmd_postfix": ") ",
          "delete_cmd_prefix": "rm(",
          "library": "var_list.r",
          "varRefreshCmd": "cat(var_dic_list()) "
        }
      },
      "types_to_exclude": [
        "module",
        "function",
        "builtin_function_or_method",
        "instance",
        "_Feature"
      ],
      "window_display": false
    },
    "colab": {
      "name": "lesson 10. Loop2 - for else continue.ipynb",
      "provenance": [],
      "collapsed_sections": [],
      "include_colab_link": true
    }
  },
  "nbformat": 4,
  "nbformat_minor": 0
}