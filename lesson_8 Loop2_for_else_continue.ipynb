{
  "cells": [
    {
      "cell_type": "markdown",
      "metadata": {
        "id": "view-in-github",
        "colab_type": "text"
      },
      "source": [
        "<a href=\"https://colab.research.google.com/github/27261626/test_project/blob/main/lesson_8%20Loop2_for_else_continue.ipynb\" target=\"_parent\"><img src=\"https://colab.research.google.com/assets/colab-badge.svg\" alt=\"Open In Colab\"/></a>"
      ]
    },
    {
      "cell_type": "markdown",
      "metadata": {
        "id": "5VYDtipjFPr2"
      },
      "source": [
        "### for loop 2"
      ]
    },
    {
      "cell_type": "markdown",
      "metadata": {
        "id": "7AZVrKX7FPr9"
      },
      "source": [
        "##### zip을 이용한 받아주기"
      ]
    },
    {
      "cell_type": "code",
      "execution_count": null,
      "metadata": {
        "ExecuteTime": {
          "end_time": "2021-02-05T05:08:34.138928Z",
          "start_time": "2021-02-05T05:08:34.133941Z"
        },
        "id": "Zwl9up5qFPr9",
        "outputId": "3661c701-1b90-4eb3-8822-82da160698b8"
      },
      "outputs": [
        {
          "name": "stdout",
          "output_type": "stream",
          "text": [
            "google chrome 1\n",
            "facebook libra 3\n",
            "apple iphone 2\n",
            "tesla e-car 4\n"
          ]
        }
      ],
      "source": [
        "corp = ['google','facebook','apple','tesla']\n",
        "prod = ['chrome','libra','iphone','e-car']\n",
        "rank = [1, 3, 2, 4]\n",
        "\n",
        "for c, p, r in zip(corp, prod, rank):\n",
        "    print(c, p, r)\n"
      ]
    },
    {
      "cell_type": "code",
      "source": [
        "for i, j in enumerate(zip(corp,prod)):\n",
        "  print(i,j)\n",
        "  # print(i,j[0],j[1])\n"
      ],
      "metadata": {
        "id": "SOyMq28zGSRg",
        "colab": {
          "base_uri": "https://localhost:8080/",
          "height": 211
        },
        "outputId": "80986792-6b2a-4521-dc51-4b4fcec9f70a"
      },
      "execution_count": 1,
      "outputs": [
        {
          "output_type": "error",
          "ename": "NameError",
          "evalue": "ignored",
          "traceback": [
            "\u001b[0;31m---------------------------------------------------------------------------\u001b[0m",
            "\u001b[0;31mNameError\u001b[0m                                 Traceback (most recent call last)",
            "\u001b[0;32m<ipython-input-1-c039cb045286>\u001b[0m in \u001b[0;36m<module>\u001b[0;34m()\u001b[0m\n\u001b[0;32m----> 1\u001b[0;31m \u001b[0;32mfor\u001b[0m \u001b[0mi\u001b[0m\u001b[0;34m,\u001b[0m \u001b[0mj\u001b[0m \u001b[0;32min\u001b[0m \u001b[0menumerate\u001b[0m\u001b[0;34m(\u001b[0m\u001b[0mzip\u001b[0m\u001b[0;34m(\u001b[0m\u001b[0mcorp\u001b[0m\u001b[0;34m,\u001b[0m\u001b[0mprod\u001b[0m\u001b[0;34m)\u001b[0m\u001b[0;34m)\u001b[0m\u001b[0;34m:\u001b[0m\u001b[0;34m\u001b[0m\u001b[0;34m\u001b[0m\u001b[0m\n\u001b[0m\u001b[1;32m      2\u001b[0m   \u001b[0mprint\u001b[0m\u001b[0;34m(\u001b[0m\u001b[0mi\u001b[0m\u001b[0;34m,\u001b[0m\u001b[0mj\u001b[0m\u001b[0;34m)\u001b[0m\u001b[0;34m\u001b[0m\u001b[0;34m\u001b[0m\u001b[0m\n\u001b[1;32m      3\u001b[0m   \u001b[0;31m# print(i,j[0],j[1])\u001b[0m\u001b[0;34m\u001b[0m\u001b[0;34m\u001b[0m\u001b[0;34m\u001b[0m\u001b[0m\n",
            "\u001b[0;31mNameError\u001b[0m: name 'corp' is not defined"
          ]
        }
      ]
    },
    {
      "cell_type": "markdown",
      "metadata": {
        "id": "9t3KOMlmFPr-"
      },
      "source": [
        "#### for문 continue\n",
        "    - continue를 사용 : for문의 조건문으로 돌아가서 루프를 실행(다음 순서로 진행)"
      ]
    },
    {
      "cell_type": "code",
      "execution_count": null,
      "metadata": {
        "ExecuteTime": {
          "end_time": "2021-02-05T05:10:40.700023Z",
          "start_time": "2021-02-05T05:10:40.696033Z"
        },
        "id": "xyQVUuddFPr-",
        "outputId": "83ae5f89-d0e7-4ef1-a1db-67dced250755"
      },
      "outputs": [
        {
          "name": "stdout",
          "output_type": "stream",
          "text": [
            "2\n",
            "4\n"
          ]
        }
      ],
      "source": [
        "ls = [1, 2, 3, 4, 5]\n",
        "\n",
        "for i in ls:\n",
        "    if i % 2:\n",
        "        print(\"홀수는 패스\")\n",
        "        continue\n",
        "    print(i)"
      ]
    },
    {
      "cell_type": "markdown",
      "metadata": {
        "id": "o-a7euWwFPr_"
      },
      "source": [
        "#### 중첩 for문"
      ]
    },
    {
      "cell_type": "code",
      "execution_count": null,
      "metadata": {
        "ExecuteTime": {
          "end_time": "2021-02-05T05:14:59.585531Z",
          "start_time": "2021-02-05T05:14:59.579547Z"
        },
        "colab": {
          "base_uri": "https://localhost:8080/"
        },
        "id": "F09YEtypFPr_",
        "outputId": "5555a597-63a5-4b45-c56e-8b2262dcd890"
      },
      "outputs": [
        {
          "output_type": "stream",
          "name": "stdout",
          "text": [
            "\n",
            "2 x 1 = 2\t3 x 1 = 3\t4 x 1 = 4\t5 x 1 = 5\t6 x 1 = 6\t7 x 1 = 7\t8 x 1 = 8\t9 x 1 = 9\t\n",
            "2 x 2 = 4\t3 x 2 = 6\t4 x 2 = 8\t5 x 2 = 10\t6 x 2 = 12\t7 x 2 = 14\t8 x 2 = 16\t9 x 2 = 18\t\n",
            "2 x 3 = 6\t3 x 3 = 9\t4 x 3 = 12\t5 x 3 = 15\t6 x 3 = 18\t7 x 3 = 21\t8 x 3 = 24\t9 x 3 = 27\t\n",
            "2 x 4 = 8\t3 x 4 = 12\t4 x 4 = 16\t5 x 4 = 20\t6 x 4 = 24\t7 x 4 = 28\t8 x 4 = 32\t9 x 4 = 36\t\n",
            "2 x 5 = 10\t3 x 5 = 15\t4 x 5 = 20\t5 x 5 = 25\t6 x 5 = 30\t7 x 5 = 35\t8 x 5 = 40\t9 x 5 = 45\t\n",
            "2 x 6 = 12\t3 x 6 = 18\t4 x 6 = 24\t5 x 6 = 30\t6 x 6 = 36\t7 x 6 = 42\t8 x 6 = 48\t9 x 6 = 54\t\n",
            "2 x 7 = 14\t3 x 7 = 21\t4 x 7 = 28\t5 x 7 = 35\t6 x 7 = 42\t7 x 7 = 49\t8 x 7 = 56\t9 x 7 = 63\t\n",
            "2 x 8 = 16\t3 x 8 = 24\t4 x 8 = 32\t5 x 8 = 40\t6 x 8 = 48\t7 x 8 = 56\t8 x 8 = 64\t9 x 8 = 72\t\n",
            "2 x 9 = 18\t3 x 9 = 27\t4 x 9 = 36\t5 x 9 = 45\t6 x 9 = 54\t7 x 9 = 63\t8 x 9 = 72\t9 x 9 = 81\t"
          ]
        }
      ],
      "source": [
        "# 구구단 전체 출력해보기\n",
        "\n",
        "for i in range(1, 10):\n",
        "    print()\n",
        "    for j in range(2, 10):\n",
        "        print(\"{} x {} = {}\".format(j, i, j*i), end=\"\\t\")\n"
      ]
    },
    {
      "cell_type": "markdown",
      "metadata": {
        "id": "_YpDYqZ5FPr_"
      },
      "source": [
        "#### list comprehension\n",
        "    - list 데이터를 만들 때 for문을 이용하여 생성\n",
        "    - 속도가 빠르고 ram을 적게 사용"
      ]
    },
    {
      "cell_type": "code",
      "execution_count": null,
      "metadata": {
        "ExecuteTime": {
          "end_time": "2021-02-05T05:16:45.913248Z",
          "start_time": "2021-02-05T05:16:45.822490Z"
        },
        "id": "cv69Tn-EFPr_",
        "outputId": "c383a704-ced6-4894-af0f-5e95c54ceeec"
      },
      "outputs": [
        {
          "ename": "TypeError",
          "evalue": "unsupported operand type(s) for ** or pow(): 'list' and 'int'",
          "output_type": "error",
          "traceback": [
            "\u001b[1;31m---------------------------------------------------------------------------\u001b[0m",
            "\u001b[1;31mTypeError\u001b[0m                                 Traceback (most recent call last)",
            "\u001b[1;32m<ipython-input-14-11c42aa3f46b>\u001b[0m in \u001b[0;36m<module>\u001b[1;34m\u001b[0m\n\u001b[0;32m      1\u001b[0m \u001b[0mls\u001b[0m \u001b[1;33m=\u001b[0m \u001b[1;33m[\u001b[0m\u001b[1;36m11\u001b[0m\u001b[1;33m,\u001b[0m \u001b[1;36m12\u001b[0m\u001b[1;33m,\u001b[0m \u001b[1;36m13\u001b[0m\u001b[1;33m,\u001b[0m \u001b[1;36m14\u001b[0m\u001b[1;33m]\u001b[0m\u001b[1;33m\u001b[0m\u001b[1;33m\u001b[0m\u001b[0m\n\u001b[1;32m----> 2\u001b[1;33m \u001b[0mls2\u001b[0m \u001b[1;33m=\u001b[0m \u001b[0mls\u001b[0m \u001b[1;33m**\u001b[0m \u001b[1;36m2\u001b[0m\u001b[1;33m\u001b[0m\u001b[1;33m\u001b[0m\u001b[0m\n\u001b[0m",
            "\u001b[1;31mTypeError\u001b[0m: unsupported operand type(s) for ** or pow(): 'list' and 'int'"
          ]
        }
      ],
      "source": [
        "ls = [11, 12, 13, 14]\n",
        "# ls2 = ls ** 2 # 연산이 불가능\n",
        "ls2 = []\n",
        "for i in ls:\n",
        "    ls2.append(i**2)\n",
        "ls2"
      ]
    },
    {
      "cell_type": "code",
      "execution_count": null,
      "metadata": {
        "ExecuteTime": {
          "end_time": "2021-02-05T05:17:50.965517Z",
          "start_time": "2021-02-05T05:17:50.960530Z"
        },
        "id": "bMuXEsdHFPsA",
        "outputId": "b4586f7f-ae85-444e-b59c-6da333ff0a22"
      },
      "outputs": [
        {
          "data": {
            "text/plain": [
              "[121, 144, 169, 196]"
            ]
          },
          "execution_count": 16,
          "metadata": {},
          "output_type": "execute_result"
        }
      ],
      "source": [
        "ls2 = [i **2 for i in ls]\n",
        "ls2"
      ]
    },
    {
      "cell_type": "code",
      "execution_count": null,
      "metadata": {
        "ExecuteTime": {
          "end_time": "2021-02-05T05:18:53.695667Z",
          "start_time": "2021-02-05T05:18:53.690679Z"
        },
        "id": "AvdGvXboFPsA",
        "outputId": "cb619580-1bd1-475a-b665-cb7a94d6eae7"
      },
      "outputs": [
        {
          "data": {
            "text/plain": [
              "[121, 144, 169, 196]"
            ]
          },
          "execution_count": 17,
          "metadata": {},
          "output_type": "execute_result"
        }
      ],
      "source": [
        "[data if data %2 else \"짝수\" for data in range(10) ]\n"
      ]
    },
    {
      "cell_type": "code",
      "execution_count": null,
      "metadata": {
        "ExecuteTime": {
          "end_time": "2021-02-05T05:21:02.960104Z",
          "start_time": "2021-02-05T05:21:02.955117Z"
        },
        "id": "uZJ-8EY6FPsB",
        "outputId": "fdfcdf49-dd90-45b5-d6f1-61ab59d2436a"
      },
      "outputs": [
        {
          "data": {
            "text/plain": [
              "['짝수', 1, '짝수', 3, '짝수', 5, '짝수', 7, '짝수', 9]"
            ]
          },
          "execution_count": 18,
          "metadata": {},
          "output_type": "execute_result"
        }
      ],
      "source": [
        "# 10까지 자연수를 출력하면서 짝수는 '짝수'로 홀수는 그 숫자를 출력한다.\n",
        "# comprehension 을 이용해보자.\n",
        "\n",
        "[data if data %2 else \"짝수\" for data in range(10) ]\n",
        "\n"
      ]
    },
    {
      "cell_type": "markdown",
      "metadata": {
        "id": "CxxJu0ryFPsB"
      },
      "source": [
        "### Quiz\n",
        "    이중 for문을 이용하여 2차원 배열의 원소들 합을 1차원으로 나타내기\n",
        "                                                                      행렬 표현 (2x3)\n",
        "$$\n",
        "    \\begin{pmatrix}\n",
        "    A00 & A01 & A02 \\\\\n",
        "    A10 & A11 & A12 \\\\\n",
        "    \\end{pmatrix}\n",
        "$$"
      ]
    },
    {
      "cell_type": "markdown",
      "metadata": {
        "id": "ialkEGFHFPsB"
      },
      "source": [
        "$$\n",
        "    \\begin{pmatrix}\n",
        "    2 & 4 \\\\\n",
        "    6 & 8 \\\\\n",
        "    \\end{pmatrix}\n",
        "    +\n",
        "    \\begin{pmatrix}\n",
        "    1 & 3 \\\\\n",
        "    5 & 7 \\\\\n",
        "    \\end{pmatrix}\n",
        "    =\n",
        "    \\begin{pmatrix}\n",
        "    3 & 7 \\\\\n",
        "    11 & 15 \\\\\n",
        "    \\end{pmatrix}\n",
        "$$"
      ]
    },
    {
      "cell_type": "code",
      "execution_count": null,
      "metadata": {
        "id": "PLIkX7y_FPsB"
      },
      "outputs": [],
      "source": [
        "m1 = [[2, 4], [6, 8]]\n",
        "m2 = [[1, 3], [5, 7]]\n",
        "\n",
        "result = []\n",
        "\n",
        "# complete the blanks\n",
        "\n",
        "result"
      ]
    },
    {
      "cell_type": "code",
      "source": [
        "# comprehension 을 이용해보자."
      ],
      "metadata": {
        "id": "sBvtKXm0HWm4"
      },
      "execution_count": null,
      "outputs": []
    }
  ],
  "metadata": {
    "hide_input": false,
    "kernelspec": {
      "display_name": "Python 3",
      "language": "python",
      "name": "python3"
    },
    "language_info": {
      "codemirror_mode": {
        "name": "ipython",
        "version": 3
      },
      "file_extension": ".py",
      "mimetype": "text/x-python",
      "name": "python",
      "nbconvert_exporter": "python",
      "pygments_lexer": "ipython3",
      "version": "3.8.5"
    },
    "toc": {
      "base_numbering": 1,
      "nav_menu": {},
      "number_sections": true,
      "sideBar": true,
      "skip_h1_title": false,
      "title_cell": "Table of Contents",
      "title_sidebar": "Contents",
      "toc_cell": false,
      "toc_position": {},
      "toc_section_display": true,
      "toc_window_display": false
    },
    "varInspector": {
      "cols": {
        "lenName": 16,
        "lenType": 16,
        "lenVar": 40
      },
      "kernels_config": {
        "python": {
          "delete_cmd_postfix": "",
          "delete_cmd_prefix": "del ",
          "library": "var_list.py",
          "varRefreshCmd": "print(var_dic_list())"
        },
        "r": {
          "delete_cmd_postfix": ") ",
          "delete_cmd_prefix": "rm(",
          "library": "var_list.r",
          "varRefreshCmd": "cat(var_dic_list()) "
        }
      },
      "types_to_exclude": [
        "module",
        "function",
        "builtin_function_or_method",
        "instance",
        "_Feature"
      ],
      "window_display": false
    },
    "colab": {
      "name": "lesson 10. Loop2 - for else continue.ipynb",
      "provenance": [],
      "collapsed_sections": [],
      "include_colab_link": true
    }
  },
  "nbformat": 4,
  "nbformat_minor": 0
}