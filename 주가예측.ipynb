{
  "nbformat": 4,
  "nbformat_minor": 0,
  "metadata": {
    "colab": {
      "name": "주가예측.ipynb",
      "provenance": [],
      "collapsed_sections": [],
      "include_colab_link": true
    },
    "kernelspec": {
      "name": "python3",
      "display_name": "Python 3"
    },
    "language_info": {
      "name": "python"
    },
    "accelerator": "GPU",
    "gpuClass": "standard"
  },
  "cells": [
    {
      "cell_type": "markdown",
      "metadata": {
        "id": "view-in-github",
        "colab_type": "text"
      },
      "source": [
        "<a href=\"https://colab.research.google.com/github/PoongGu/test_project/blob/main/%EC%A3%BC%EA%B0%80%EC%98%88%EC%B8%A1.ipynb\" target=\"_parent\"><img src=\"https://colab.research.google.com/assets/colab-badge.svg\" alt=\"Open In Colab\"/></a>"
      ]
    },
    {
      "cell_type": "code",
      "execution_count": null,
      "metadata": {
        "id": "ctwJOyWDtaJJ"
      },
      "outputs": [],
      "source": [
        "import pandas as pd\n",
        "import numpy as np\n",
        "import matplotlib.pyplot as plt\n",
        "import seaborn as sns\n",
        "import warnings\n",
        "import os\n",
        "\n",
        "%matplotlib inline\n",
        "warnings.filterwarnings('ignore')\n",
        "plt.rcParams['figure.figsize'] = (15, 20)\n",
        "\n",
        "plt.rcParams['font.family'] = 'NanumGothic'"
      ]
    },
    {
      "cell_type": "code",
      "source": [
        "!pip install finance-datareader"
      ],
      "metadata": {
        "colab": {
          "base_uri": "https://localhost:8080/"
        },
        "id": "EMHQ4HUttmJ1",
        "outputId": "2ce1b1e2-9502-455f-bd7f-f6dd85c796c9"
      },
      "execution_count": null,
      "outputs": [
        {
          "output_type": "stream",
          "name": "stdout",
          "text": [
            "Looking in indexes: https://pypi.org/simple, https://us-python.pkg.dev/colab-wheels/public/simple/\n",
            "Collecting finance-datareader\n",
            "  Downloading finance_datareader-0.9.34-py3-none-any.whl (17 kB)\n",
            "Requirement already satisfied: lxml in /usr/local/lib/python3.7/dist-packages (from finance-datareader) (4.2.6)\n",
            "Requirement already satisfied: tqdm in /usr/local/lib/python3.7/dist-packages (from finance-datareader) (4.64.0)\n",
            "Requirement already satisfied: requests>=2.3.0 in /usr/local/lib/python3.7/dist-packages (from finance-datareader) (2.23.0)\n",
            "Requirement already satisfied: pandas>=0.19.2 in /usr/local/lib/python3.7/dist-packages (from finance-datareader) (1.3.5)\n",
            "Collecting requests-file\n",
            "  Downloading requests_file-1.5.1-py2.py3-none-any.whl (3.7 kB)\n",
            "Requirement already satisfied: numpy>=1.17.3 in /usr/local/lib/python3.7/dist-packages (from pandas>=0.19.2->finance-datareader) (1.21.6)\n",
            "Requirement already satisfied: pytz>=2017.3 in /usr/local/lib/python3.7/dist-packages (from pandas>=0.19.2->finance-datareader) (2022.1)\n",
            "Requirement already satisfied: python-dateutil>=2.7.3 in /usr/local/lib/python3.7/dist-packages (from pandas>=0.19.2->finance-datareader) (2.8.2)\n",
            "Requirement already satisfied: six>=1.5 in /usr/local/lib/python3.7/dist-packages (from python-dateutil>=2.7.3->pandas>=0.19.2->finance-datareader) (1.15.0)\n",
            "Requirement already satisfied: urllib3!=1.25.0,!=1.25.1,<1.26,>=1.21.1 in /usr/local/lib/python3.7/dist-packages (from requests>=2.3.0->finance-datareader) (1.24.3)\n",
            "Requirement already satisfied: chardet<4,>=3.0.2 in /usr/local/lib/python3.7/dist-packages (from requests>=2.3.0->finance-datareader) (3.0.4)\n",
            "Requirement already satisfied: idna<3,>=2.5 in /usr/local/lib/python3.7/dist-packages (from requests>=2.3.0->finance-datareader) (2.10)\n",
            "Requirement already satisfied: certifi>=2017.4.17 in /usr/local/lib/python3.7/dist-packages (from requests>=2.3.0->finance-datareader) (2022.6.15)\n",
            "Installing collected packages: requests-file, finance-datareader\n",
            "Successfully installed finance-datareader-0.9.34 requests-file-1.5.1\n"
          ]
        }
      ]
    },
    {
      "cell_type": "code",
      "source": [
        "import FinanceDataReader as fdr"
      ],
      "metadata": {
        "id": "7hvG_JY1tslT"
      },
      "execution_count": null,
      "outputs": []
    },
    {
      "cell_type": "code",
      "source": [
        "# KOSPI index, 2015 ~ Now\n",
        "ks11 = fdr.DataReader('KS11', '2015-01-01')\n"
      ],
      "metadata": {
        "id": "uZtYKDKetv51"
      },
      "execution_count": null,
      "outputs": []
    },
    {
      "cell_type": "code",
      "source": [
        "ks11.tail()"
      ],
      "metadata": {
        "colab": {
          "base_uri": "https://localhost:8080/",
          "height": 238
        },
        "id": "lcoQsCGmuDaj",
        "outputId": "329da722-ca23-4b79-af18-3e9dc53ea29c"
      },
      "execution_count": null,
      "outputs": [
        {
          "output_type": "execute_result",
          "data": {
            "text/plain": [
              "              Close     Open     High      Low       Volume  Change\n",
              "Date                                                               \n",
              "2022-07-08  2350.61  2352.49  2367.84  2348.74  411420000.0  0.0070\n",
              "2022-07-11  2340.27  2357.43  2363.26  2337.82  377110000.0 -0.0044\n",
              "2022-07-12  2317.76  2330.88  2333.02  2303.74  379310000.0 -0.0096\n",
              "2022-07-13  2328.61  2324.45  2341.19  2312.49  308810000.0  0.0047\n",
              "2022-07-14  2322.32  2316.41  2338.29  2307.69     343630.0 -0.0027"
            ],
            "text/html": [
              "\n",
              "  <div id=\"df-96436ef1-8444-4d42-bc07-7f55a9b5743b\">\n",
              "    <div class=\"colab-df-container\">\n",
              "      <div>\n",
              "<style scoped>\n",
              "    .dataframe tbody tr th:only-of-type {\n",
              "        vertical-align: middle;\n",
              "    }\n",
              "\n",
              "    .dataframe tbody tr th {\n",
              "        vertical-align: top;\n",
              "    }\n",
              "\n",
              "    .dataframe thead th {\n",
              "        text-align: right;\n",
              "    }\n",
              "</style>\n",
              "<table border=\"1\" class=\"dataframe\">\n",
              "  <thead>\n",
              "    <tr style=\"text-align: right;\">\n",
              "      <th></th>\n",
              "      <th>Close</th>\n",
              "      <th>Open</th>\n",
              "      <th>High</th>\n",
              "      <th>Low</th>\n",
              "      <th>Volume</th>\n",
              "      <th>Change</th>\n",
              "    </tr>\n",
              "    <tr>\n",
              "      <th>Date</th>\n",
              "      <th></th>\n",
              "      <th></th>\n",
              "      <th></th>\n",
              "      <th></th>\n",
              "      <th></th>\n",
              "      <th></th>\n",
              "    </tr>\n",
              "  </thead>\n",
              "  <tbody>\n",
              "    <tr>\n",
              "      <th>2022-07-08</th>\n",
              "      <td>2350.61</td>\n",
              "      <td>2352.49</td>\n",
              "      <td>2367.84</td>\n",
              "      <td>2348.74</td>\n",
              "      <td>411420000.0</td>\n",
              "      <td>0.0070</td>\n",
              "    </tr>\n",
              "    <tr>\n",
              "      <th>2022-07-11</th>\n",
              "      <td>2340.27</td>\n",
              "      <td>2357.43</td>\n",
              "      <td>2363.26</td>\n",
              "      <td>2337.82</td>\n",
              "      <td>377110000.0</td>\n",
              "      <td>-0.0044</td>\n",
              "    </tr>\n",
              "    <tr>\n",
              "      <th>2022-07-12</th>\n",
              "      <td>2317.76</td>\n",
              "      <td>2330.88</td>\n",
              "      <td>2333.02</td>\n",
              "      <td>2303.74</td>\n",
              "      <td>379310000.0</td>\n",
              "      <td>-0.0096</td>\n",
              "    </tr>\n",
              "    <tr>\n",
              "      <th>2022-07-13</th>\n",
              "      <td>2328.61</td>\n",
              "      <td>2324.45</td>\n",
              "      <td>2341.19</td>\n",
              "      <td>2312.49</td>\n",
              "      <td>308810000.0</td>\n",
              "      <td>0.0047</td>\n",
              "    </tr>\n",
              "    <tr>\n",
              "      <th>2022-07-14</th>\n",
              "      <td>2322.32</td>\n",
              "      <td>2316.41</td>\n",
              "      <td>2338.29</td>\n",
              "      <td>2307.69</td>\n",
              "      <td>343630.0</td>\n",
              "      <td>-0.0027</td>\n",
              "    </tr>\n",
              "  </tbody>\n",
              "</table>\n",
              "</div>\n",
              "      <button class=\"colab-df-convert\" onclick=\"convertToInteractive('df-96436ef1-8444-4d42-bc07-7f55a9b5743b')\"\n",
              "              title=\"Convert this dataframe to an interactive table.\"\n",
              "              style=\"display:none;\">\n",
              "        \n",
              "  <svg xmlns=\"http://www.w3.org/2000/svg\" height=\"24px\"viewBox=\"0 0 24 24\"\n",
              "       width=\"24px\">\n",
              "    <path d=\"M0 0h24v24H0V0z\" fill=\"none\"/>\n",
              "    <path d=\"M18.56 5.44l.94 2.06.94-2.06 2.06-.94-2.06-.94-.94-2.06-.94 2.06-2.06.94zm-11 1L8.5 8.5l.94-2.06 2.06-.94-2.06-.94L8.5 2.5l-.94 2.06-2.06.94zm10 10l.94 2.06.94-2.06 2.06-.94-2.06-.94-.94-2.06-.94 2.06-2.06.94z\"/><path d=\"M17.41 7.96l-1.37-1.37c-.4-.4-.92-.59-1.43-.59-.52 0-1.04.2-1.43.59L10.3 9.45l-7.72 7.72c-.78.78-.78 2.05 0 2.83L4 21.41c.39.39.9.59 1.41.59.51 0 1.02-.2 1.41-.59l7.78-7.78 2.81-2.81c.8-.78.8-2.07 0-2.86zM5.41 20L4 18.59l7.72-7.72 1.47 1.35L5.41 20z\"/>\n",
              "  </svg>\n",
              "      </button>\n",
              "      \n",
              "  <style>\n",
              "    .colab-df-container {\n",
              "      display:flex;\n",
              "      flex-wrap:wrap;\n",
              "      gap: 12px;\n",
              "    }\n",
              "\n",
              "    .colab-df-convert {\n",
              "      background-color: #E8F0FE;\n",
              "      border: none;\n",
              "      border-radius: 50%;\n",
              "      cursor: pointer;\n",
              "      display: none;\n",
              "      fill: #1967D2;\n",
              "      height: 32px;\n",
              "      padding: 0 0 0 0;\n",
              "      width: 32px;\n",
              "    }\n",
              "\n",
              "    .colab-df-convert:hover {\n",
              "      background-color: #E2EBFA;\n",
              "      box-shadow: 0px 1px 2px rgba(60, 64, 67, 0.3), 0px 1px 3px 1px rgba(60, 64, 67, 0.15);\n",
              "      fill: #174EA6;\n",
              "    }\n",
              "\n",
              "    [theme=dark] .colab-df-convert {\n",
              "      background-color: #3B4455;\n",
              "      fill: #D2E3FC;\n",
              "    }\n",
              "\n",
              "    [theme=dark] .colab-df-convert:hover {\n",
              "      background-color: #434B5C;\n",
              "      box-shadow: 0px 1px 3px 1px rgba(0, 0, 0, 0.15);\n",
              "      filter: drop-shadow(0px 1px 2px rgba(0, 0, 0, 0.3));\n",
              "      fill: #FFFFFF;\n",
              "    }\n",
              "  </style>\n",
              "\n",
              "      <script>\n",
              "        const buttonEl =\n",
              "          document.querySelector('#df-96436ef1-8444-4d42-bc07-7f55a9b5743b button.colab-df-convert');\n",
              "        buttonEl.style.display =\n",
              "          google.colab.kernel.accessAllowed ? 'block' : 'none';\n",
              "\n",
              "        async function convertToInteractive(key) {\n",
              "          const element = document.querySelector('#df-96436ef1-8444-4d42-bc07-7f55a9b5743b');\n",
              "          const dataTable =\n",
              "            await google.colab.kernel.invokeFunction('convertToInteractive',\n",
              "                                                     [key], {});\n",
              "          if (!dataTable) return;\n",
              "\n",
              "          const docLinkHtml = 'Like what you see? Visit the ' +\n",
              "            '<a target=\"_blank\" href=https://colab.research.google.com/notebooks/data_table.ipynb>data table notebook</a>'\n",
              "            + ' to learn more about interactive tables.';\n",
              "          element.innerHTML = '';\n",
              "          dataTable['output_type'] = 'display_data';\n",
              "          await google.colab.output.renderOutput(dataTable, element);\n",
              "          const docLink = document.createElement('div');\n",
              "          docLink.innerHTML = docLinkHtml;\n",
              "          element.appendChild(docLink);\n",
              "        }\n",
              "      </script>\n",
              "    </div>\n",
              "  </div>\n",
              "  "
            ]
          },
          "metadata": {},
          "execution_count": 5
        }
      ]
    },
    {
      "cell_type": "code",
      "source": [
        "STOCK_CODE = 'ks11'"
      ],
      "metadata": {
        "id": "7HixJIOkvFAU"
      },
      "execution_count": null,
      "outputs": []
    },
    {
      "cell_type": "code",
      "source": [
        "stock = fdr.DataReader(STOCK_CODE)"
      ],
      "metadata": {
        "id": "Y_CglABAvVeq"
      },
      "execution_count": null,
      "outputs": []
    },
    {
      "cell_type": "code",
      "source": [
        "stock.head()"
      ],
      "metadata": {
        "colab": {
          "base_uri": "https://localhost:8080/",
          "height": 238
        },
        "id": "6xQNU-Vgvb0S",
        "outputId": "8a766d08-7b4a-4cb7-8b0a-ba94a0f9afc0"
      },
      "execution_count": null,
      "outputs": [
        {
          "output_type": "execute_result",
          "data": {
            "text/plain": [
              "            Close   Open   High    Low     Volume  Change\n",
              "Date                                                     \n",
              "1981-05-01  123.6  123.6  123.6  123.6  3330000.0  0.0098\n",
              "1981-05-02  123.5  123.5  123.5  123.5  2040000.0 -0.0008\n",
              "1981-05-04  120.6  120.6  120.6  120.6  1930000.0 -0.0235\n",
              "1981-05-06  120.7  120.7  120.7  120.7  1690000.0  0.0008\n",
              "1981-05-07  119.3  119.3  119.3  119.3  1480000.0 -0.0116"
            ],
            "text/html": [
              "\n",
              "  <div id=\"df-89add2a2-8de2-4e4e-a564-d08b2e4e0b9d\">\n",
              "    <div class=\"colab-df-container\">\n",
              "      <div>\n",
              "<style scoped>\n",
              "    .dataframe tbody tr th:only-of-type {\n",
              "        vertical-align: middle;\n",
              "    }\n",
              "\n",
              "    .dataframe tbody tr th {\n",
              "        vertical-align: top;\n",
              "    }\n",
              "\n",
              "    .dataframe thead th {\n",
              "        text-align: right;\n",
              "    }\n",
              "</style>\n",
              "<table border=\"1\" class=\"dataframe\">\n",
              "  <thead>\n",
              "    <tr style=\"text-align: right;\">\n",
              "      <th></th>\n",
              "      <th>Close</th>\n",
              "      <th>Open</th>\n",
              "      <th>High</th>\n",
              "      <th>Low</th>\n",
              "      <th>Volume</th>\n",
              "      <th>Change</th>\n",
              "    </tr>\n",
              "    <tr>\n",
              "      <th>Date</th>\n",
              "      <th></th>\n",
              "      <th></th>\n",
              "      <th></th>\n",
              "      <th></th>\n",
              "      <th></th>\n",
              "      <th></th>\n",
              "    </tr>\n",
              "  </thead>\n",
              "  <tbody>\n",
              "    <tr>\n",
              "      <th>1981-05-01</th>\n",
              "      <td>123.6</td>\n",
              "      <td>123.6</td>\n",
              "      <td>123.6</td>\n",
              "      <td>123.6</td>\n",
              "      <td>3330000.0</td>\n",
              "      <td>0.0098</td>\n",
              "    </tr>\n",
              "    <tr>\n",
              "      <th>1981-05-02</th>\n",
              "      <td>123.5</td>\n",
              "      <td>123.5</td>\n",
              "      <td>123.5</td>\n",
              "      <td>123.5</td>\n",
              "      <td>2040000.0</td>\n",
              "      <td>-0.0008</td>\n",
              "    </tr>\n",
              "    <tr>\n",
              "      <th>1981-05-04</th>\n",
              "      <td>120.6</td>\n",
              "      <td>120.6</td>\n",
              "      <td>120.6</td>\n",
              "      <td>120.6</td>\n",
              "      <td>1930000.0</td>\n",
              "      <td>-0.0235</td>\n",
              "    </tr>\n",
              "    <tr>\n",
              "      <th>1981-05-06</th>\n",
              "      <td>120.7</td>\n",
              "      <td>120.7</td>\n",
              "      <td>120.7</td>\n",
              "      <td>120.7</td>\n",
              "      <td>1690000.0</td>\n",
              "      <td>0.0008</td>\n",
              "    </tr>\n",
              "    <tr>\n",
              "      <th>1981-05-07</th>\n",
              "      <td>119.3</td>\n",
              "      <td>119.3</td>\n",
              "      <td>119.3</td>\n",
              "      <td>119.3</td>\n",
              "      <td>1480000.0</td>\n",
              "      <td>-0.0116</td>\n",
              "    </tr>\n",
              "  </tbody>\n",
              "</table>\n",
              "</div>\n",
              "      <button class=\"colab-df-convert\" onclick=\"convertToInteractive('df-89add2a2-8de2-4e4e-a564-d08b2e4e0b9d')\"\n",
              "              title=\"Convert this dataframe to an interactive table.\"\n",
              "              style=\"display:none;\">\n",
              "        \n",
              "  <svg xmlns=\"http://www.w3.org/2000/svg\" height=\"24px\"viewBox=\"0 0 24 24\"\n",
              "       width=\"24px\">\n",
              "    <path d=\"M0 0h24v24H0V0z\" fill=\"none\"/>\n",
              "    <path d=\"M18.56 5.44l.94 2.06.94-2.06 2.06-.94-2.06-.94-.94-2.06-.94 2.06-2.06.94zm-11 1L8.5 8.5l.94-2.06 2.06-.94-2.06-.94L8.5 2.5l-.94 2.06-2.06.94zm10 10l.94 2.06.94-2.06 2.06-.94-2.06-.94-.94-2.06-.94 2.06-2.06.94z\"/><path d=\"M17.41 7.96l-1.37-1.37c-.4-.4-.92-.59-1.43-.59-.52 0-1.04.2-1.43.59L10.3 9.45l-7.72 7.72c-.78.78-.78 2.05 0 2.83L4 21.41c.39.39.9.59 1.41.59.51 0 1.02-.2 1.41-.59l7.78-7.78 2.81-2.81c.8-.78.8-2.07 0-2.86zM5.41 20L4 18.59l7.72-7.72 1.47 1.35L5.41 20z\"/>\n",
              "  </svg>\n",
              "      </button>\n",
              "      \n",
              "  <style>\n",
              "    .colab-df-container {\n",
              "      display:flex;\n",
              "      flex-wrap:wrap;\n",
              "      gap: 12px;\n",
              "    }\n",
              "\n",
              "    .colab-df-convert {\n",
              "      background-color: #E8F0FE;\n",
              "      border: none;\n",
              "      border-radius: 50%;\n",
              "      cursor: pointer;\n",
              "      display: none;\n",
              "      fill: #1967D2;\n",
              "      height: 32px;\n",
              "      padding: 0 0 0 0;\n",
              "      width: 32px;\n",
              "    }\n",
              "\n",
              "    .colab-df-convert:hover {\n",
              "      background-color: #E2EBFA;\n",
              "      box-shadow: 0px 1px 2px rgba(60, 64, 67, 0.3), 0px 1px 3px 1px rgba(60, 64, 67, 0.15);\n",
              "      fill: #174EA6;\n",
              "    }\n",
              "\n",
              "    [theme=dark] .colab-df-convert {\n",
              "      background-color: #3B4455;\n",
              "      fill: #D2E3FC;\n",
              "    }\n",
              "\n",
              "    [theme=dark] .colab-df-convert:hover {\n",
              "      background-color: #434B5C;\n",
              "      box-shadow: 0px 1px 3px 1px rgba(0, 0, 0, 0.15);\n",
              "      filter: drop-shadow(0px 1px 2px rgba(0, 0, 0, 0.3));\n",
              "      fill: #FFFFFF;\n",
              "    }\n",
              "  </style>\n",
              "\n",
              "      <script>\n",
              "        const buttonEl =\n",
              "          document.querySelector('#df-89add2a2-8de2-4e4e-a564-d08b2e4e0b9d button.colab-df-convert');\n",
              "        buttonEl.style.display =\n",
              "          google.colab.kernel.accessAllowed ? 'block' : 'none';\n",
              "\n",
              "        async function convertToInteractive(key) {\n",
              "          const element = document.querySelector('#df-89add2a2-8de2-4e4e-a564-d08b2e4e0b9d');\n",
              "          const dataTable =\n",
              "            await google.colab.kernel.invokeFunction('convertToInteractive',\n",
              "                                                     [key], {});\n",
              "          if (!dataTable) return;\n",
              "\n",
              "          const docLinkHtml = 'Like what you see? Visit the ' +\n",
              "            '<a target=\"_blank\" href=https://colab.research.google.com/notebooks/data_table.ipynb>data table notebook</a>'\n",
              "            + ' to learn more about interactive tables.';\n",
              "          element.innerHTML = '';\n",
              "          dataTable['output_type'] = 'display_data';\n",
              "          await google.colab.output.renderOutput(dataTable, element);\n",
              "          const docLink = document.createElement('div');\n",
              "          docLink.innerHTML = docLinkHtml;\n",
              "          element.appendChild(docLink);\n",
              "        }\n",
              "      </script>\n",
              "    </div>\n",
              "  </div>\n",
              "  "
            ]
          },
          "metadata": {},
          "execution_count": 8
        }
      ]
    },
    {
      "cell_type": "code",
      "source": [
        "stock.tail()"
      ],
      "metadata": {
        "colab": {
          "base_uri": "https://localhost:8080/",
          "height": 238
        },
        "id": "MVLeVownvjQp",
        "outputId": "b3853ddb-a258-410f-dd42-132520d9bc59"
      },
      "execution_count": null,
      "outputs": [
        {
          "output_type": "execute_result",
          "data": {
            "text/plain": [
              "              Close     Open     High      Low       Volume  Change\n",
              "Date                                                               \n",
              "2022-07-08  2350.61  2352.49  2367.84  2348.74  411420000.0  0.0070\n",
              "2022-07-11  2340.27  2357.43  2363.26  2337.82  377110000.0 -0.0044\n",
              "2022-07-12  2317.76  2330.88  2333.02  2303.74  379310000.0 -0.0096\n",
              "2022-07-13  2328.61  2324.45  2341.19  2312.49  308810000.0  0.0047\n",
              "2022-07-14  2322.32  2316.41  2338.29  2307.69     343630.0 -0.0027"
            ],
            "text/html": [
              "\n",
              "  <div id=\"df-068d891d-98a3-48d2-9134-f21d6b9563dd\">\n",
              "    <div class=\"colab-df-container\">\n",
              "      <div>\n",
              "<style scoped>\n",
              "    .dataframe tbody tr th:only-of-type {\n",
              "        vertical-align: middle;\n",
              "    }\n",
              "\n",
              "    .dataframe tbody tr th {\n",
              "        vertical-align: top;\n",
              "    }\n",
              "\n",
              "    .dataframe thead th {\n",
              "        text-align: right;\n",
              "    }\n",
              "</style>\n",
              "<table border=\"1\" class=\"dataframe\">\n",
              "  <thead>\n",
              "    <tr style=\"text-align: right;\">\n",
              "      <th></th>\n",
              "      <th>Close</th>\n",
              "      <th>Open</th>\n",
              "      <th>High</th>\n",
              "      <th>Low</th>\n",
              "      <th>Volume</th>\n",
              "      <th>Change</th>\n",
              "    </tr>\n",
              "    <tr>\n",
              "      <th>Date</th>\n",
              "      <th></th>\n",
              "      <th></th>\n",
              "      <th></th>\n",
              "      <th></th>\n",
              "      <th></th>\n",
              "      <th></th>\n",
              "    </tr>\n",
              "  </thead>\n",
              "  <tbody>\n",
              "    <tr>\n",
              "      <th>2022-07-08</th>\n",
              "      <td>2350.61</td>\n",
              "      <td>2352.49</td>\n",
              "      <td>2367.84</td>\n",
              "      <td>2348.74</td>\n",
              "      <td>411420000.0</td>\n",
              "      <td>0.0070</td>\n",
              "    </tr>\n",
              "    <tr>\n",
              "      <th>2022-07-11</th>\n",
              "      <td>2340.27</td>\n",
              "      <td>2357.43</td>\n",
              "      <td>2363.26</td>\n",
              "      <td>2337.82</td>\n",
              "      <td>377110000.0</td>\n",
              "      <td>-0.0044</td>\n",
              "    </tr>\n",
              "    <tr>\n",
              "      <th>2022-07-12</th>\n",
              "      <td>2317.76</td>\n",
              "      <td>2330.88</td>\n",
              "      <td>2333.02</td>\n",
              "      <td>2303.74</td>\n",
              "      <td>379310000.0</td>\n",
              "      <td>-0.0096</td>\n",
              "    </tr>\n",
              "    <tr>\n",
              "      <th>2022-07-13</th>\n",
              "      <td>2328.61</td>\n",
              "      <td>2324.45</td>\n",
              "      <td>2341.19</td>\n",
              "      <td>2312.49</td>\n",
              "      <td>308810000.0</td>\n",
              "      <td>0.0047</td>\n",
              "    </tr>\n",
              "    <tr>\n",
              "      <th>2022-07-14</th>\n",
              "      <td>2322.32</td>\n",
              "      <td>2316.41</td>\n",
              "      <td>2338.29</td>\n",
              "      <td>2307.69</td>\n",
              "      <td>343630.0</td>\n",
              "      <td>-0.0027</td>\n",
              "    </tr>\n",
              "  </tbody>\n",
              "</table>\n",
              "</div>\n",
              "      <button class=\"colab-df-convert\" onclick=\"convertToInteractive('df-068d891d-98a3-48d2-9134-f21d6b9563dd')\"\n",
              "              title=\"Convert this dataframe to an interactive table.\"\n",
              "              style=\"display:none;\">\n",
              "        \n",
              "  <svg xmlns=\"http://www.w3.org/2000/svg\" height=\"24px\"viewBox=\"0 0 24 24\"\n",
              "       width=\"24px\">\n",
              "    <path d=\"M0 0h24v24H0V0z\" fill=\"none\"/>\n",
              "    <path d=\"M18.56 5.44l.94 2.06.94-2.06 2.06-.94-2.06-.94-.94-2.06-.94 2.06-2.06.94zm-11 1L8.5 8.5l.94-2.06 2.06-.94-2.06-.94L8.5 2.5l-.94 2.06-2.06.94zm10 10l.94 2.06.94-2.06 2.06-.94-2.06-.94-.94-2.06-.94 2.06-2.06.94z\"/><path d=\"M17.41 7.96l-1.37-1.37c-.4-.4-.92-.59-1.43-.59-.52 0-1.04.2-1.43.59L10.3 9.45l-7.72 7.72c-.78.78-.78 2.05 0 2.83L4 21.41c.39.39.9.59 1.41.59.51 0 1.02-.2 1.41-.59l7.78-7.78 2.81-2.81c.8-.78.8-2.07 0-2.86zM5.41 20L4 18.59l7.72-7.72 1.47 1.35L5.41 20z\"/>\n",
              "  </svg>\n",
              "      </button>\n",
              "      \n",
              "  <style>\n",
              "    .colab-df-container {\n",
              "      display:flex;\n",
              "      flex-wrap:wrap;\n",
              "      gap: 12px;\n",
              "    }\n",
              "\n",
              "    .colab-df-convert {\n",
              "      background-color: #E8F0FE;\n",
              "      border: none;\n",
              "      border-radius: 50%;\n",
              "      cursor: pointer;\n",
              "      display: none;\n",
              "      fill: #1967D2;\n",
              "      height: 32px;\n",
              "      padding: 0 0 0 0;\n",
              "      width: 32px;\n",
              "    }\n",
              "\n",
              "    .colab-df-convert:hover {\n",
              "      background-color: #E2EBFA;\n",
              "      box-shadow: 0px 1px 2px rgba(60, 64, 67, 0.3), 0px 1px 3px 1px rgba(60, 64, 67, 0.15);\n",
              "      fill: #174EA6;\n",
              "    }\n",
              "\n",
              "    [theme=dark] .colab-df-convert {\n",
              "      background-color: #3B4455;\n",
              "      fill: #D2E3FC;\n",
              "    }\n",
              "\n",
              "    [theme=dark] .colab-df-convert:hover {\n",
              "      background-color: #434B5C;\n",
              "      box-shadow: 0px 1px 3px 1px rgba(0, 0, 0, 0.15);\n",
              "      filter: drop-shadow(0px 1px 2px rgba(0, 0, 0, 0.3));\n",
              "      fill: #FFFFFF;\n",
              "    }\n",
              "  </style>\n",
              "\n",
              "      <script>\n",
              "        const buttonEl =\n",
              "          document.querySelector('#df-068d891d-98a3-48d2-9134-f21d6b9563dd button.colab-df-convert');\n",
              "        buttonEl.style.display =\n",
              "          google.colab.kernel.accessAllowed ? 'block' : 'none';\n",
              "\n",
              "        async function convertToInteractive(key) {\n",
              "          const element = document.querySelector('#df-068d891d-98a3-48d2-9134-f21d6b9563dd');\n",
              "          const dataTable =\n",
              "            await google.colab.kernel.invokeFunction('convertToInteractive',\n",
              "                                                     [key], {});\n",
              "          if (!dataTable) return;\n",
              "\n",
              "          const docLinkHtml = 'Like what you see? Visit the ' +\n",
              "            '<a target=\"_blank\" href=https://colab.research.google.com/notebooks/data_table.ipynb>data table notebook</a>'\n",
              "            + ' to learn more about interactive tables.';\n",
              "          element.innerHTML = '';\n",
              "          dataTable['output_type'] = 'display_data';\n",
              "          await google.colab.output.renderOutput(dataTable, element);\n",
              "          const docLink = document.createElement('div');\n",
              "          docLink.innerHTML = docLinkHtml;\n",
              "          element.appendChild(docLink);\n",
              "        }\n",
              "      </script>\n",
              "    </div>\n",
              "  </div>\n",
              "  "
            ]
          },
          "metadata": {},
          "execution_count": 9
        }
      ]
    },
    {
      "cell_type": "code",
      "source": [
        "stock.index"
      ],
      "metadata": {
        "colab": {
          "base_uri": "https://localhost:8080/"
        },
        "id": "yAo7uimXvsMh",
        "outputId": "b852d87b-6caf-4d83-8686-ab8560360932"
      },
      "execution_count": null,
      "outputs": [
        {
          "output_type": "execute_result",
          "data": {
            "text/plain": [
              "DatetimeIndex(['1981-05-01', '1981-05-02', '1981-05-04', '1981-05-06',\n",
              "               '1981-05-07', '1981-05-08', '1981-05-09', '1981-05-12',\n",
              "               '1981-05-13', '1981-05-14',\n",
              "               ...\n",
              "               '2022-07-01', '2022-07-04', '2022-07-05', '2022-07-06',\n",
              "               '2022-07-07', '2022-07-08', '2022-07-11', '2022-07-12',\n",
              "               '2022-07-13', '2022-07-14'],\n",
              "              dtype='datetime64[ns]', name='Date', length=10991, freq=None)"
            ]
          },
          "metadata": {},
          "execution_count": 10
        }
      ]
    },
    {
      "cell_type": "code",
      "source": [
        "stock['Year'] = stock.index.year\n",
        "stock['Month'] = stock.index.month\n",
        "stock['Day'] = stock.index.day"
      ],
      "metadata": {
        "id": "0M_38szFvwgB"
      },
      "execution_count": null,
      "outputs": []
    },
    {
      "cell_type": "code",
      "source": [
        "stock.head()"
      ],
      "metadata": {
        "colab": {
          "base_uri": "https://localhost:8080/",
          "height": 238
        },
        "id": "2E4fezRHvykx",
        "outputId": "7d489288-fc28-4c99-e51f-9ed2c9b1ce00"
      },
      "execution_count": null,
      "outputs": [
        {
          "output_type": "execute_result",
          "data": {
            "text/plain": [
              "            Close   Open   High    Low     Volume  Change  Year  Month  Day\n",
              "Date                                                                       \n",
              "1981-05-01  123.6  123.6  123.6  123.6  3330000.0  0.0098  1981      5    1\n",
              "1981-05-02  123.5  123.5  123.5  123.5  2040000.0 -0.0008  1981      5    2\n",
              "1981-05-04  120.6  120.6  120.6  120.6  1930000.0 -0.0235  1981      5    4\n",
              "1981-05-06  120.7  120.7  120.7  120.7  1690000.0  0.0008  1981      5    6\n",
              "1981-05-07  119.3  119.3  119.3  119.3  1480000.0 -0.0116  1981      5    7"
            ],
            "text/html": [
              "\n",
              "  <div id=\"df-620c082d-9cf5-43b5-97b0-c5c7a7a7e580\">\n",
              "    <div class=\"colab-df-container\">\n",
              "      <div>\n",
              "<style scoped>\n",
              "    .dataframe tbody tr th:only-of-type {\n",
              "        vertical-align: middle;\n",
              "    }\n",
              "\n",
              "    .dataframe tbody tr th {\n",
              "        vertical-align: top;\n",
              "    }\n",
              "\n",
              "    .dataframe thead th {\n",
              "        text-align: right;\n",
              "    }\n",
              "</style>\n",
              "<table border=\"1\" class=\"dataframe\">\n",
              "  <thead>\n",
              "    <tr style=\"text-align: right;\">\n",
              "      <th></th>\n",
              "      <th>Close</th>\n",
              "      <th>Open</th>\n",
              "      <th>High</th>\n",
              "      <th>Low</th>\n",
              "      <th>Volume</th>\n",
              "      <th>Change</th>\n",
              "      <th>Year</th>\n",
              "      <th>Month</th>\n",
              "      <th>Day</th>\n",
              "    </tr>\n",
              "    <tr>\n",
              "      <th>Date</th>\n",
              "      <th></th>\n",
              "      <th></th>\n",
              "      <th></th>\n",
              "      <th></th>\n",
              "      <th></th>\n",
              "      <th></th>\n",
              "      <th></th>\n",
              "      <th></th>\n",
              "      <th></th>\n",
              "    </tr>\n",
              "  </thead>\n",
              "  <tbody>\n",
              "    <tr>\n",
              "      <th>1981-05-01</th>\n",
              "      <td>123.6</td>\n",
              "      <td>123.6</td>\n",
              "      <td>123.6</td>\n",
              "      <td>123.6</td>\n",
              "      <td>3330000.0</td>\n",
              "      <td>0.0098</td>\n",
              "      <td>1981</td>\n",
              "      <td>5</td>\n",
              "      <td>1</td>\n",
              "    </tr>\n",
              "    <tr>\n",
              "      <th>1981-05-02</th>\n",
              "      <td>123.5</td>\n",
              "      <td>123.5</td>\n",
              "      <td>123.5</td>\n",
              "      <td>123.5</td>\n",
              "      <td>2040000.0</td>\n",
              "      <td>-0.0008</td>\n",
              "      <td>1981</td>\n",
              "      <td>5</td>\n",
              "      <td>2</td>\n",
              "    </tr>\n",
              "    <tr>\n",
              "      <th>1981-05-04</th>\n",
              "      <td>120.6</td>\n",
              "      <td>120.6</td>\n",
              "      <td>120.6</td>\n",
              "      <td>120.6</td>\n",
              "      <td>1930000.0</td>\n",
              "      <td>-0.0235</td>\n",
              "      <td>1981</td>\n",
              "      <td>5</td>\n",
              "      <td>4</td>\n",
              "    </tr>\n",
              "    <tr>\n",
              "      <th>1981-05-06</th>\n",
              "      <td>120.7</td>\n",
              "      <td>120.7</td>\n",
              "      <td>120.7</td>\n",
              "      <td>120.7</td>\n",
              "      <td>1690000.0</td>\n",
              "      <td>0.0008</td>\n",
              "      <td>1981</td>\n",
              "      <td>5</td>\n",
              "      <td>6</td>\n",
              "    </tr>\n",
              "    <tr>\n",
              "      <th>1981-05-07</th>\n",
              "      <td>119.3</td>\n",
              "      <td>119.3</td>\n",
              "      <td>119.3</td>\n",
              "      <td>119.3</td>\n",
              "      <td>1480000.0</td>\n",
              "      <td>-0.0116</td>\n",
              "      <td>1981</td>\n",
              "      <td>5</td>\n",
              "      <td>7</td>\n",
              "    </tr>\n",
              "  </tbody>\n",
              "</table>\n",
              "</div>\n",
              "      <button class=\"colab-df-convert\" onclick=\"convertToInteractive('df-620c082d-9cf5-43b5-97b0-c5c7a7a7e580')\"\n",
              "              title=\"Convert this dataframe to an interactive table.\"\n",
              "              style=\"display:none;\">\n",
              "        \n",
              "  <svg xmlns=\"http://www.w3.org/2000/svg\" height=\"24px\"viewBox=\"0 0 24 24\"\n",
              "       width=\"24px\">\n",
              "    <path d=\"M0 0h24v24H0V0z\" fill=\"none\"/>\n",
              "    <path d=\"M18.56 5.44l.94 2.06.94-2.06 2.06-.94-2.06-.94-.94-2.06-.94 2.06-2.06.94zm-11 1L8.5 8.5l.94-2.06 2.06-.94-2.06-.94L8.5 2.5l-.94 2.06-2.06.94zm10 10l.94 2.06.94-2.06 2.06-.94-2.06-.94-.94-2.06-.94 2.06-2.06.94z\"/><path d=\"M17.41 7.96l-1.37-1.37c-.4-.4-.92-.59-1.43-.59-.52 0-1.04.2-1.43.59L10.3 9.45l-7.72 7.72c-.78.78-.78 2.05 0 2.83L4 21.41c.39.39.9.59 1.41.59.51 0 1.02-.2 1.41-.59l7.78-7.78 2.81-2.81c.8-.78.8-2.07 0-2.86zM5.41 20L4 18.59l7.72-7.72 1.47 1.35L5.41 20z\"/>\n",
              "  </svg>\n",
              "      </button>\n",
              "      \n",
              "  <style>\n",
              "    .colab-df-container {\n",
              "      display:flex;\n",
              "      flex-wrap:wrap;\n",
              "      gap: 12px;\n",
              "    }\n",
              "\n",
              "    .colab-df-convert {\n",
              "      background-color: #E8F0FE;\n",
              "      border: none;\n",
              "      border-radius: 50%;\n",
              "      cursor: pointer;\n",
              "      display: none;\n",
              "      fill: #1967D2;\n",
              "      height: 32px;\n",
              "      padding: 0 0 0 0;\n",
              "      width: 32px;\n",
              "    }\n",
              "\n",
              "    .colab-df-convert:hover {\n",
              "      background-color: #E2EBFA;\n",
              "      box-shadow: 0px 1px 2px rgba(60, 64, 67, 0.3), 0px 1px 3px 1px rgba(60, 64, 67, 0.15);\n",
              "      fill: #174EA6;\n",
              "    }\n",
              "\n",
              "    [theme=dark] .colab-df-convert {\n",
              "      background-color: #3B4455;\n",
              "      fill: #D2E3FC;\n",
              "    }\n",
              "\n",
              "    [theme=dark] .colab-df-convert:hover {\n",
              "      background-color: #434B5C;\n",
              "      box-shadow: 0px 1px 3px 1px rgba(0, 0, 0, 0.15);\n",
              "      filter: drop-shadow(0px 1px 2px rgba(0, 0, 0, 0.3));\n",
              "      fill: #FFFFFF;\n",
              "    }\n",
              "  </style>\n",
              "\n",
              "      <script>\n",
              "        const buttonEl =\n",
              "          document.querySelector('#df-620c082d-9cf5-43b5-97b0-c5c7a7a7e580 button.colab-df-convert');\n",
              "        buttonEl.style.display =\n",
              "          google.colab.kernel.accessAllowed ? 'block' : 'none';\n",
              "\n",
              "        async function convertToInteractive(key) {\n",
              "          const element = document.querySelector('#df-620c082d-9cf5-43b5-97b0-c5c7a7a7e580');\n",
              "          const dataTable =\n",
              "            await google.colab.kernel.invokeFunction('convertToInteractive',\n",
              "                                                     [key], {});\n",
              "          if (!dataTable) return;\n",
              "\n",
              "          const docLinkHtml = 'Like what you see? Visit the ' +\n",
              "            '<a target=\"_blank\" href=https://colab.research.google.com/notebooks/data_table.ipynb>data table notebook</a>'\n",
              "            + ' to learn more about interactive tables.';\n",
              "          element.innerHTML = '';\n",
              "          dataTable['output_type'] = 'display_data';\n",
              "          await google.colab.output.renderOutput(dataTable, element);\n",
              "          const docLink = document.createElement('div');\n",
              "          docLink.innerHTML = docLinkHtml;\n",
              "          element.appendChild(docLink);\n",
              "        }\n",
              "      </script>\n",
              "    </div>\n",
              "  </div>\n",
              "  "
            ]
          },
          "metadata": {},
          "execution_count": 12
        }
      ]
    },
    {
      "cell_type": "code",
      "source": [
        "plt.figure(figsize=(16, 9))\n",
        "sns.lineplot(y=stock['Close'], x=stock.index)\n",
        "plt.xlabel('time')\n",
        "plt.ylabel('price')"
      ],
      "metadata": {
        "colab": {
          "base_uri": "https://localhost:8080/",
          "height": 569
        },
        "id": "pRwLe_VRxCiR",
        "outputId": "28d5e17c-a0f6-42f1-cb03-d4dfbc8c8599"
      },
      "execution_count": null,
      "outputs": [
        {
          "output_type": "execute_result",
          "data": {
            "text/plain": [
              "Text(0, 0.5, 'price')"
            ]
          },
          "metadata": {},
          "execution_count": 13
        },
        {
          "output_type": "stream",
          "name": "stderr",
          "text": [
            "findfont: Font family ['NanumGothic'] not found. Falling back to DejaVu Sans.\n"
          ]
        },
        {
          "output_type": "display_data",
          "data": {
            "text/plain": [
              "<Figure size 1152x648 with 1 Axes>"
            ],
            "image/png": "[encoded data removed]"
          },
          "metadata": {
            "needs_background": "light"
          }
        }
      ]
    },
    {
      "cell_type": "code",
      "source": [
        "time_steps = [['1990', '2000'], \n",
        "              ['2000', '2010'], \n",
        "              ['2010', '2015'], \n",
        "              ['2015', '2020']]\n",
        "\n",
        "fig, axes = plt.subplots(2, 2)\n",
        "fig.set_size_inches(16, 9)\n",
        "for i in range(4):\n",
        "    ax = axes[i//2, i%2]\n",
        "    df = stock.loc[(stock.index > time_steps[i][0]) & (stock.index < time_steps[i][1])]\n",
        "    sns.lineplot(y=df['Close'], x=df.index, ax=ax) \n",
        "    ax.set_title(f'{time_steps[i][0]}~{time_steps[i][1]}')\n",
        "    ax.set_xlabel('time')\n",
        "    ax.set_ylabel('price')\n",
        "plt.tight_layout()\n",
        "plt.show()"
      ],
      "metadata": {
        "colab": {
          "base_uri": "https://localhost:8080/",
          "height": 675
        },
        "id": "g8DqNdjYxXnK",
        "outputId": "4ec6f0d8-a4d7-466d-fed3-87b337742d8d"
      },
      "execution_count": null,
      "outputs": [
        {
          "output_type": "stream",
          "name": "stderr",
          "text": [
            "findfont: Font family ['NanumGothic'] not found. Falling back to DejaVu Sans.\n"
          ]
        },
        {
          "output_type": "display_data",
          "data": {
            "text/plain": [
              "<Figure size 1152x648 with 4 Axes>"
            ],
            "image/png": "[encoded data removed]"
          },
          "metadata": {
            "needs_background": "light"
          }
        }
      ]
    },
    {
      "cell_type": "code",
      "source": [
        "from sklearn.preprocessing import MinMaxScaler\n",
        "\n",
        "scaler = MinMaxScaler() \n",
        "\n",
        "\n",
        "scale_cols = ['Open', 'High', 'Low', 'Close', 'Volume']\n",
        "\n",
        "\n",
        "scaled = scaler.fit_transform(stock[scale_cols])\n",
        "scaled"
      ],
      "metadata": {
        "colab": {
          "base_uri": "https://localhost:8080/"
        },
        "id": "qfwZM2tIxhXP",
        "outputId": "9f019aa3-80c2-4c73-9c99-adb1a7ee6397"
      },
      "execution_count": null,
      "outputs": [
        {
          "output_type": "execute_result",
          "data": {
            "text/plain": [
              "array([[5.50403661e-03, 5.48582750e-03, 5.52132813e-03, 5.50446671e-03,\n",
              "        9.14494742e-04],\n",
              "       [5.47278143e-03, 5.45467573e-03, 5.48997476e-03, 5.47320909e-03,\n",
              "        5.41644484e-04],\n",
              "       [4.56638131e-03, 4.55127426e-03, 4.58072708e-03, 4.56673814e-03,\n",
              "        5.09851051e-04],\n",
              "       ...,\n",
              "       [6.95393300e-01, 6.93759365e-01, 6.89068648e-01, 6.91346641e-01,\n",
              "        1.09584448e-01],\n",
              "       [6.93383592e-01, 6.96304465e-01, 6.91812068e-01, 6.94738092e-01,\n",
              "        8.92077481e-02],\n",
              "       [6.90870675e-01, 6.95401064e-01, 6.90307106e-01, 6.92771988e-01,\n",
              "        5.13406135e-05]])"
            ]
          },
          "metadata": {},
          "execution_count": 15
        }
      ]
    },
    {
      "cell_type": "code",
      "source": [
        "df = pd.DataFrame(scaled, columns=scale_cols)\n",
        "df.info()"
      ],
      "metadata": {
        "colab": {
          "base_uri": "https://localhost:8080/"
        },
        "id": "dWkZeLwXxprf",
        "outputId": "926d7dae-4da5-4ef6-afd3-ac8c14512101"
      },
      "execution_count": null,
      "outputs": [
        {
          "output_type": "stream",
          "name": "stdout",
          "text": [
            "<class 'pandas.core.frame.DataFrame'>\n",
            "RangeIndex: 10991 entries, 0 to 10990\n",
            "Data columns (total 5 columns):\n",
            " #   Column  Non-Null Count  Dtype  \n",
            "---  ------  --------------  -----  \n",
            " 0   Open    10991 non-null  float64\n",
            " 1   High    10991 non-null  float64\n",
            " 2   Low     10991 non-null  float64\n",
            " 3   Close   10991 non-null  float64\n",
            " 4   Volume  10991 non-null  float64\n",
            "dtypes: float64(5)\n",
            "memory usage: 429.5 KB\n"
          ]
        }
      ]
    },
    {
      "cell_type": "code",
      "source": [
        "from sklearn.model_selection import train_test_split"
      ],
      "metadata": {
        "id": "jzYhwJVDxvSv"
      },
      "execution_count": null,
      "outputs": []
    },
    {
      "cell_type": "code",
      "source": [
        "x_train, x_test, y_train, y_test = train_test_split(df.drop('Close', 1), df['Close'], test_size=0.2, random_state=0, shuffle=False)"
      ],
      "metadata": {
        "id": "KfhKTjUuxxFB"
      },
      "execution_count": null,
      "outputs": []
    },
    {
      "cell_type": "code",
      "source": [
        "x_train.shape, y_train.shape"
      ],
      "metadata": {
        "colab": {
          "base_uri": "https://localhost:8080/"
        },
        "id": "natmHWiwx06B",
        "outputId": "c5d4d90e-499a-4d1b-9b36-1f652046e97e"
      },
      "execution_count": null,
      "outputs": [
        {
          "output_type": "execute_result",
          "data": {
            "text/plain": [
              "((8792, 4), (8792,))"
            ]
          },
          "metadata": {},
          "execution_count": 19
        }
      ]
    },
    {
      "cell_type": "code",
      "source": [
        "x_test.shape, y_test.shape"
      ],
      "metadata": {
        "colab": {
          "base_uri": "https://localhost:8080/"
        },
        "id": "4sUdRwLEx3Pv",
        "outputId": "dbcf0e04-4196-431c-bba3-33ec8fe5161d"
      },
      "execution_count": null,
      "outputs": [
        {
          "output_type": "execute_result",
          "data": {
            "text/plain": [
              "((2199, 4), (2199,))"
            ]
          },
          "metadata": {},
          "execution_count": 20
        }
      ]
    },
    {
      "cell_type": "code",
      "source": [
        "x_train"
      ],
      "metadata": {
        "colab": {
          "base_uri": "https://localhost:8080/",
          "height": 424
        },
        "id": "UWVOfMu9x9dP",
        "outputId": "824e74c8-41ad-4a54-c738-4d3896351a1e"
      },
      "execution_count": null,
      "outputs": [
        {
          "output_type": "execute_result",
          "data": {
            "text/plain": [
              "          Open      High       Low    Volume\n",
              "0     0.005504  0.005486  0.005521  0.000914\n",
              "1     0.005473  0.005455  0.005490  0.000542\n",
              "2     0.004566  0.004551  0.004581  0.000510\n",
              "3     0.004598  0.004582  0.004612  0.000440\n",
              "4     0.004160  0.004146  0.004173  0.000380\n",
              "...        ...       ...       ...       ...\n",
              "8787  0.563428  0.562782  0.562175  0.097526\n",
              "8788  0.561309  0.564196  0.562652  0.105992\n",
              "8789  0.565556  0.565283  0.565875  0.110980\n",
              "8790  0.565897  0.566754  0.564596  0.097084\n",
              "8791  0.572054  0.571102  0.569060  0.086127\n",
              "\n",
              "[8792 rows x 4 columns]"
            ],
            "text/html": [
              "\n",
              "  <div id=\"df-9a5e2518-aaba-4f2c-a8e9-57e5f6f2c814\">\n",
              "    <div class=\"colab-df-container\">\n",
              "      <div>\n",
              "<style scoped>\n",
              "    .dataframe tbody tr th:only-of-type {\n",
              "        vertical-align: middle;\n",
              "    }\n",
              "\n",
              "    .dataframe tbody tr th {\n",
              "        vertical-align: top;\n",
              "    }\n",
              "\n",
              "    .dataframe thead th {\n",
              "        text-align: right;\n",
              "    }\n",
              "</style>\n",
              "<table border=\"1\" class=\"dataframe\">\n",
              "  <thead>\n",
              "    <tr style=\"text-align: right;\">\n",
              "      <th></th>\n",
              "      <th>Open</th>\n",
              "      <th>High</th>\n",
              "      <th>Low</th>\n",
              "      <th>Volume</th>\n",
              "    </tr>\n",
              "  </thead>\n",
              "  <tbody>\n",
              "    <tr>\n",
              "      <th>0</th>\n",
              "      <td>0.005504</td>\n",
              "      <td>0.005486</td>\n",
              "      <td>0.005521</td>\n",
              "      <td>0.000914</td>\n",
              "    </tr>\n",
              "    <tr>\n",
              "      <th>1</th>\n",
              "      <td>0.005473</td>\n",
              "      <td>0.005455</td>\n",
              "      <td>0.005490</td>\n",
              "      <td>0.000542</td>\n",
              "    </tr>\n",
              "    <tr>\n",
              "      <th>2</th>\n",
              "      <td>0.004566</td>\n",
              "      <td>0.004551</td>\n",
              "      <td>0.004581</td>\n",
              "      <td>0.000510</td>\n",
              "    </tr>\n",
              "    <tr>\n",
              "      <th>3</th>\n",
              "      <td>0.004598</td>\n",
              "      <td>0.004582</td>\n",
              "      <td>0.004612</td>\n",
              "      <td>0.000440</td>\n",
              "    </tr>\n",
              "    <tr>\n",
              "      <th>4</th>\n",
              "      <td>0.004160</td>\n",
              "      <td>0.004146</td>\n",
              "      <td>0.004173</td>\n",
              "      <td>0.000380</td>\n",
              "    </tr>\n",
              "    <tr>\n",
              "      <th>...</th>\n",
              "      <td>...</td>\n",
              "      <td>...</td>\n",
              "      <td>...</td>\n",
              "      <td>...</td>\n",
              "    </tr>\n",
              "    <tr>\n",
              "      <th>8787</th>\n",
              "      <td>0.563428</td>\n",
              "      <td>0.562782</td>\n",
              "      <td>0.562175</td>\n",
              "      <td>0.097526</td>\n",
              "    </tr>\n",
              "    <tr>\n",
              "      <th>8788</th>\n",
              "      <td>0.561309</td>\n",
              "      <td>0.564196</td>\n",
              "      <td>0.562652</td>\n",
              "      <td>0.105992</td>\n",
              "    </tr>\n",
              "    <tr>\n",
              "      <th>8789</th>\n",
              "      <td>0.565556</td>\n",
              "      <td>0.565283</td>\n",
              "      <td>0.565875</td>\n",
              "      <td>0.110980</td>\n",
              "    </tr>\n",
              "    <tr>\n",
              "      <th>8790</th>\n",
              "      <td>0.565897</td>\n",
              "      <td>0.566754</td>\n",
              "      <td>0.564596</td>\n",
              "      <td>0.097084</td>\n",
              "    </tr>\n",
              "    <tr>\n",
              "      <th>8791</th>\n",
              "      <td>0.572054</td>\n",
              "      <td>0.571102</td>\n",
              "      <td>0.569060</td>\n",
              "      <td>0.086127</td>\n",
              "    </tr>\n",
              "  </tbody>\n",
              "</table>\n",
              "<p>8792 rows × 4 columns</p>\n",
              "</div>\n",
              "      <button class=\"colab-df-convert\" onclick=\"convertToInteractive('df-9a5e2518-aaba-4f2c-a8e9-57e5f6f2c814')\"\n",
              "              title=\"Convert this dataframe to an interactive table.\"\n",
              "              style=\"display:none;\">\n",
              "        \n",
              "  <svg xmlns=\"http://www.w3.org/2000/svg\" height=\"24px\"viewBox=\"0 0 24 24\"\n",
              "       width=\"24px\">\n",
              "    <path d=\"M0 0h24v24H0V0z\" fill=\"none\"/>\n",
              "    <path d=\"M18.56 5.44l.94 2.06.94-2.06 2.06-.94-2.06-.94-.94-2.06-.94 2.06-2.06.94zm-11 1L8.5 8.5l.94-2.06 2.06-.94-2.06-.94L8.5 2.5l-.94 2.06-2.06.94zm10 10l.94 2.06.94-2.06 2.06-.94-2.06-.94-.94-2.06-.94 2.06-2.06.94z\"/><path d=\"M17.41 7.96l-1.37-1.37c-.4-.4-.92-.59-1.43-.59-.52 0-1.04.2-1.43.59L10.3 9.45l-7.72 7.72c-.78.78-.78 2.05 0 2.83L4 21.41c.39.39.9.59 1.41.59.51 0 1.02-.2 1.41-.59l7.78-7.78 2.81-2.81c.8-.78.8-2.07 0-2.86zM5.41 20L4 18.59l7.72-7.72 1.47 1.35L5.41 20z\"/>\n",
              "  </svg>\n",
              "      </button>\n",
              "      \n",
              "  <style>\n",
              "    .colab-df-container {\n",
              "      display:flex;\n",
              "      flex-wrap:wrap;\n",
              "      gap: 12px;\n",
              "    }\n",
              "\n",
              "    .colab-df-convert {\n",
              "      background-color: #E8F0FE;\n",
              "      border: none;\n",
              "      border-radius: 50%;\n",
              "      cursor: pointer;\n",
              "      display: none;\n",
              "      fill: #1967D2;\n",
              "      height: 32px;\n",
              "      padding: 0 0 0 0;\n",
              "      width: 32px;\n",
              "    }\n",
              "\n",
              "    .colab-df-convert:hover {\n",
              "      background-color: #E2EBFA;\n",
              "      box-shadow: 0px 1px 2px rgba(60, 64, 67, 0.3), 0px 1px 3px 1px rgba(60, 64, 67, 0.15);\n",
              "      fill: #174EA6;\n",
              "    }\n",
              "\n",
              "    [theme=dark] .colab-df-convert {\n",
              "      background-color: #3B4455;\n",
              "      fill: #D2E3FC;\n",
              "    }\n",
              "\n",
              "    [theme=dark] .colab-df-convert:hover {\n",
              "      background-color: #434B5C;\n",
              "      box-shadow: 0px 1px 3px 1px rgba(0, 0, 0, 0.15);\n",
              "      filter: drop-shadow(0px 1px 2px rgba(0, 0, 0, 0.3));\n",
              "      fill: #FFFFFF;\n",
              "    }\n",
              "  </style>\n",
              "\n",
              "      <script>\n",
              "        const buttonEl =\n",
              "          document.querySelector('#df-9a5e2518-aaba-4f2c-a8e9-57e5f6f2c814 button.colab-df-convert');\n",
              "        buttonEl.style.display =\n",
              "          google.colab.kernel.accessAllowed ? 'block' : 'none';\n",
              "\n",
              "        async function convertToInteractive(key) {\n",
              "          const element = document.querySelector('#df-9a5e2518-aaba-4f2c-a8e9-57e5f6f2c814');\n",
              "          const dataTable =\n",
              "            await google.colab.kernel.invokeFunction('convertToInteractive',\n",
              "                                                     [key], {});\n",
              "          if (!dataTable) return;\n",
              "\n",
              "          const docLinkHtml = 'Like what you see? Visit the ' +\n",
              "            '<a target=\"_blank\" href=https://colab.research.google.com/notebooks/data_table.ipynb>data table notebook</a>'\n",
              "            + ' to learn more about interactive tables.';\n",
              "          element.innerHTML = '';\n",
              "          dataTable['output_type'] = 'display_data';\n",
              "          await google.colab.output.renderOutput(dataTable, element);\n",
              "          const docLink = document.createElement('div');\n",
              "          docLink.innerHTML = docLinkHtml;\n",
              "          element.appendChild(docLink);\n",
              "        }\n",
              "      </script>\n",
              "    </div>\n",
              "  </div>\n",
              "  "
            ]
          },
          "metadata": {},
          "execution_count": 21
        }
      ]
    },
    {
      "cell_type": "code",
      "source": [
        "import tensorflow as tf"
      ],
      "metadata": {
        "id": "s4HkrrNPyBnf"
      },
      "execution_count": null,
      "outputs": []
    },
    {
      "cell_type": "code",
      "source": [
        "def windowed_dataset(series, window_size, batch_size, shuffle):\n",
        "    series = tf.expand_dims(series, axis=-1)\n",
        "    ds = tf.data.Dataset.from_tensor_slices(series)\n",
        "    ds = ds.window(window_size + 1, shift=1, drop_remainder=True)\n",
        "    ds = ds.flat_map(lambda w: w.batch(window_size + 1))\n",
        "    if shuffle:\n",
        "        ds = ds.shuffle(1000)\n",
        "    ds = ds.map(lambda w: (w[:-1], w[-1]))\n",
        "    return ds.batch(batch_size).prefetch(1)"
      ],
      "metadata": {
        "id": "UYc2HajkyF__"
      },
      "execution_count": null,
      "outputs": []
    },
    {
      "cell_type": "code",
      "source": [
        "WINDOW_SIZE=20\n",
        "BATCH_SIZE=32"
      ],
      "metadata": {
        "id": "e6TWAXyqyK8n"
      },
      "execution_count": null,
      "outputs": []
    },
    {
      "cell_type": "code",
      "source": [
        "train_data = windowed_dataset(y_train, WINDOW_SIZE, BATCH_SIZE, True)\n",
        "test_data = windowed_dataset(y_test, WINDOW_SIZE, BATCH_SIZE, False)"
      ],
      "metadata": {
        "id": "QMvdQKHayQWv"
      },
      "execution_count": null,
      "outputs": []
    },
    {
      "cell_type": "code",
      "source": [
        "for data in train_data.take(1):\n",
        "    print(f'데이터셋(X) 구성(batch_size, window_size, feature갯수): {data[0].shape}')\n",
        "    print(f'데이터셋(Y) 구성(batch_size, window_size, feature갯수): {data[1].shape}')"
      ],
      "metadata": {
        "colab": {
          "base_uri": "https://localhost:8080/"
        },
        "id": "2i1OximzyUOo",
        "outputId": "c4ea6d4f-100a-4278-d237-ffbc7c731e49"
      },
      "execution_count": null,
      "outputs": [
        {
          "output_type": "stream",
          "name": "stdout",
          "text": [
            "데이터셋(X) 구성(batch_size, window_size, feature갯수): (32, 20, 1)\n",
            "데이터셋(Y) 구성(batch_size, window_size, feature갯수): (32, 1)\n"
          ]
        }
      ]
    },
    {
      "cell_type": "code",
      "source": [
        "from tensorflow.keras.models import Sequential\n",
        "from tensorflow.keras.layers import Dense, LSTM, Conv1D, Lambda\n",
        "from tensorflow.keras.losses import Huber\n",
        "from tensorflow.keras.optimizers import Adam\n",
        "from tensorflow.keras.callbacks import EarlyStopping, ModelCheckpoint\n",
        "\n",
        "\n",
        "model = Sequential([\n",
        "    \n",
        "    Conv1D(filters=32, kernel_size=5,\n",
        "           padding=\"causal\",\n",
        "           activation=\"relu\",\n",
        "           input_shape=[WINDOW_SIZE, 1]),\n",
        "    \n",
        "    LSTM(16, activation='tanh'),\n",
        "    Dense(16, activation=\"relu\"),\n",
        "    Dense(1),\n",
        "])"
      ],
      "metadata": {
        "id": "wKChbPHuyYwY"
      },
      "execution_count": null,
      "outputs": []
    },
    {
      "cell_type": "code",
      "source": [
        "loss = Huber()\n",
        "optimizer = Adam(0.0005)\n",
        "model.compile(loss=Huber(), optimizer=optimizer, metrics=['mse'])"
      ],
      "metadata": {
        "id": "kgghLu4kygqO"
      },
      "execution_count": null,
      "outputs": []
    },
    {
      "cell_type": "code",
      "source": [
        "earlystopping = EarlyStopping(monitor='val_loss', patience=10)\n",
        "\n",
        "filename = os.path.join('tmp', 'ckeckpointer.ckpt')\n",
        "checkpoint = ModelCheckpoint(filename, \n",
        "                             save_weights_only=True, \n",
        "                             save_best_only=True, \n",
        "                             monitor='val_loss', \n",
        "                             verbose=1)"
      ],
      "metadata": {
        "id": "vcYLYHUWykte"
      },
      "execution_count": null,
      "outputs": []
    },
    {
      "cell_type": "code",
      "source": [
        "history = model.fit(train_data, \n",
        "                    validation_data=(test_data), \n",
        "                    epochs=50, \n",
        "                    callbacks=[checkpoint, earlystopping])"
      ],
      "metadata": {
        "colab": {
          "base_uri": "https://localhost:8080/"
        },
        "id": "nZhMpc-dyrdA",
        "outputId": "8b23616b-89f0-4579-c009-8c789299a66f"
      },
      "execution_count": null,
      "outputs": [
        {
          "output_type": "stream",
          "name": "stdout",
          "text": [
            "Epoch 1/50\n",
            "    275/Unknown - 18s 7ms/step - loss: 6.4631e-05 - mse: 1.2926e-04\n",
            "Epoch 1: val_loss improved from inf to 0.00045, saving model to tmp/ckeckpointer.ckpt\n",
            "275/275 [==============================] - 19s 11ms/step - loss: 6.4631e-05 - mse: 1.2926e-04 - val_loss: 4.4745e-04 - val_mse: 8.9490e-04\n",
            "Epoch 2/50\n",
            "275/275 [==============================] - ETA: 0s - loss: 3.5588e-05 - mse: 7.1176e-05\n",
            "Epoch 2: val_loss improved from 0.00045 to 0.00034, saving model to tmp/ckeckpointer.ckpt\n",
            "275/275 [==============================] - 2s 8ms/step - loss: 3.5588e-05 - mse: 7.1176e-05 - val_loss: 3.3834e-04 - val_mse: 6.7669e-04\n",
            "Epoch 3/50\n",
            "275/275 [==============================] - ETA: 0s - loss: 3.3204e-05 - mse: 6.6407e-05\n",
            "Epoch 3: val_loss improved from 0.00034 to 0.00028, saving model to tmp/ckeckpointer.ckpt\n",
            "275/275 [==============================] - 2s 9ms/step - loss: 3.3204e-05 - mse: 6.6407e-05 - val_loss: 2.8404e-04 - val_mse: 5.6808e-04\n",
            "Epoch 4/50\n",
            "272/275 [============================>.] - ETA: 0s - loss: 2.8319e-05 - mse: 5.6639e-05\n",
            "Epoch 4: val_loss improved from 0.00028 to 0.00010, saving model to tmp/ckeckpointer.ckpt\n",
            "275/275 [==============================] - 2s 9ms/step - loss: 2.8765e-05 - mse: 5.7530e-05 - val_loss: 9.8557e-05 - val_mse: 1.9711e-04\n",
            "Epoch 5/50\n",
            "268/275 [============================>.] - ETA: 0s - loss: 2.7626e-05 - mse: 5.5253e-05\n",
            "Epoch 5: val_loss improved from 0.00010 to 0.00008, saving model to tmp/ckeckpointer.ckpt\n",
            "275/275 [==============================] - 2s 9ms/step - loss: 2.8723e-05 - mse: 5.7445e-05 - val_loss: 7.6670e-05 - val_mse: 1.5334e-04\n",
            "Epoch 6/50\n",
            "275/275 [==============================] - ETA: 0s - loss: 2.6813e-05 - mse: 5.3626e-05\n",
            "Epoch 6: val_loss improved from 0.00008 to 0.00007, saving model to tmp/ckeckpointer.ckpt\n",
            "275/275 [==============================] - 2s 9ms/step - loss: 2.6813e-05 - mse: 5.3626e-05 - val_loss: 6.9241e-05 - val_mse: 1.3848e-04\n",
            "Epoch 7/50\n",
            "274/275 [============================>.] - ETA: 0s - loss: 2.4762e-05 - mse: 4.9523e-05\n",
            "Epoch 7: val_loss did not improve from 0.00007\n",
            "275/275 [==============================] - 2s 8ms/step - loss: 2.4781e-05 - mse: 4.9562e-05 - val_loss: 1.4195e-04 - val_mse: 2.8390e-04\n",
            "Epoch 8/50\n",
            "269/275 [============================>.] - ETA: 0s - loss: 2.4736e-05 - mse: 4.9472e-05\n",
            "Epoch 8: val_loss did not improve from 0.00007\n",
            "275/275 [==============================] - 2s 9ms/step - loss: 2.5153e-05 - mse: 5.0306e-05 - val_loss: 1.0665e-04 - val_mse: 2.1330e-04\n",
            "Epoch 9/50\n",
            "267/275 [============================>.] - ETA: 0s - loss: 2.0478e-05 - mse: 4.0955e-05\n",
            "Epoch 9: val_loss did not improve from 0.00007\n",
            "275/275 [==============================] - 2s 9ms/step - loss: 2.1285e-05 - mse: 4.2569e-05 - val_loss: 6.9850e-05 - val_mse: 1.3970e-04\n",
            "Epoch 10/50\n",
            "268/275 [============================>.] - ETA: 0s - loss: 1.9516e-05 - mse: 3.9032e-05\n",
            "Epoch 10: val_loss improved from 0.00007 to 0.00006, saving model to tmp/ckeckpointer.ckpt\n",
            "275/275 [==============================] - 3s 9ms/step - loss: 1.9660e-05 - mse: 3.9321e-05 - val_loss: 5.8813e-05 - val_mse: 1.1763e-04\n",
            "Epoch 11/50\n",
            "267/275 [============================>.] - ETA: 0s - loss: 1.7937e-05 - mse: 3.5874e-05\n",
            "Epoch 11: val_loss improved from 0.00006 to 0.00004, saving model to tmp/ckeckpointer.ckpt\n",
            "275/275 [==============================] - 3s 9ms/step - loss: 1.8949e-05 - mse: 3.7897e-05 - val_loss: 4.4100e-05 - val_mse: 8.8200e-05\n",
            "Epoch 12/50\n",
            "267/275 [============================>.] - ETA: 0s - loss: 2.0039e-05 - mse: 4.0078e-05\n",
            "Epoch 12: val_loss improved from 0.00004 to 0.00004, saving model to tmp/ckeckpointer.ckpt\n",
            "275/275 [==============================] - 3s 10ms/step - loss: 2.0586e-05 - mse: 4.1172e-05 - val_loss: 4.3605e-05 - val_mse: 8.7210e-05\n",
            "Epoch 13/50\n",
            "271/275 [============================>.] - ETA: 0s - loss: 1.7248e-05 - mse: 3.4495e-05\n",
            "Epoch 13: val_loss improved from 0.00004 to 0.00004, saving model to tmp/ckeckpointer.ckpt\n",
            "275/275 [==============================] - 3s 9ms/step - loss: 1.7555e-05 - mse: 3.5111e-05 - val_loss: 3.8422e-05 - val_mse: 7.6845e-05\n",
            "Epoch 14/50\n",
            "275/275 [==============================] - ETA: 0s - loss: 1.7485e-05 - mse: 3.4970e-05\n",
            "Epoch 14: val_loss did not improve from 0.00004\n",
            "275/275 [==============================] - 3s 10ms/step - loss: 1.7485e-05 - mse: 3.4970e-05 - val_loss: 5.3497e-05 - val_mse: 1.0699e-04\n",
            "Epoch 15/50\n",
            "272/275 [============================>.] - ETA: 0s - loss: 1.6792e-05 - mse: 3.3583e-05\n",
            "Epoch 15: val_loss did not improve from 0.00004\n",
            "275/275 [==============================] - 2s 8ms/step - loss: 1.7072e-05 - mse: 3.4144e-05 - val_loss: 4.1438e-05 - val_mse: 8.2876e-05\n",
            "Epoch 16/50\n",
            "271/275 [============================>.] - ETA: 0s - loss: 1.6315e-05 - mse: 3.2629e-05\n",
            "Epoch 16: val_loss did not improve from 0.00004\n",
            "275/275 [==============================] - 2s 9ms/step - loss: 1.6565e-05 - mse: 3.3129e-05 - val_loss: 4.0844e-05 - val_mse: 8.1688e-05\n",
            "Epoch 17/50\n",
            "271/275 [============================>.] - ETA: 0s - loss: 1.6568e-05 - mse: 3.3136e-05\n",
            "Epoch 17: val_loss did not improve from 0.00004\n",
            "275/275 [==============================] - 3s 9ms/step - loss: 1.6763e-05 - mse: 3.3526e-05 - val_loss: 3.9321e-05 - val_mse: 7.8643e-05\n",
            "Epoch 18/50\n",
            "273/275 [============================>.] - ETA: 0s - loss: 1.5934e-05 - mse: 3.1869e-05\n",
            "Epoch 18: val_loss did not improve from 0.00004\n",
            "275/275 [==============================] - 3s 10ms/step - loss: 1.6063e-05 - mse: 3.2127e-05 - val_loss: 7.5127e-05 - val_mse: 1.5025e-04\n",
            "Epoch 19/50\n",
            "271/275 [============================>.] - ETA: 0s - loss: 1.6285e-05 - mse: 3.2570e-05\n",
            "Epoch 19: val_loss did not improve from 0.00004\n",
            "275/275 [==============================] - 3s 9ms/step - loss: 1.6581e-05 - mse: 3.3162e-05 - val_loss: 3.8822e-05 - val_mse: 7.7644e-05\n",
            "Epoch 20/50\n",
            "268/275 [============================>.] - ETA: 0s - loss: 1.4322e-05 - mse: 2.8644e-05\n",
            "Epoch 20: val_loss did not improve from 0.00004\n",
            "275/275 [==============================] - 2s 9ms/step - loss: 1.4786e-05 - mse: 2.9572e-05 - val_loss: 8.6043e-05 - val_mse: 1.7209e-04\n",
            "Epoch 21/50\n",
            "267/275 [============================>.] - ETA: 0s - loss: 1.7340e-05 - mse: 3.4681e-05\n",
            "Epoch 21: val_loss did not improve from 0.00004\n",
            "275/275 [==============================] - 2s 8ms/step - loss: 1.8181e-05 - mse: 3.6363e-05 - val_loss: 4.2012e-05 - val_mse: 8.4024e-05\n",
            "Epoch 22/50\n",
            "269/275 [============================>.] - ETA: 0s - loss: 1.6794e-05 - mse: 3.3589e-05\n",
            "Epoch 22: val_loss improved from 0.00004 to 0.00003, saving model to tmp/ckeckpointer.ckpt\n",
            "275/275 [==============================] - 2s 9ms/step - loss: 1.7278e-05 - mse: 3.4557e-05 - val_loss: 3.3928e-05 - val_mse: 6.7855e-05\n",
            "Epoch 23/50\n",
            "272/275 [============================>.] - ETA: 0s - loss: 1.7149e-05 - mse: 3.4298e-05\n",
            "Epoch 23: val_loss improved from 0.00003 to 0.00003, saving model to tmp/ckeckpointer.ckpt\n",
            "275/275 [==============================] - 2s 9ms/step - loss: 1.7212e-05 - mse: 3.4424e-05 - val_loss: 3.0602e-05 - val_mse: 6.1204e-05\n",
            "Epoch 24/50\n",
            "273/275 [============================>.] - ETA: 0s - loss: 1.5557e-05 - mse: 3.1115e-05\n",
            "Epoch 24: val_loss did not improve from 0.00003\n",
            "275/275 [==============================] - 2s 8ms/step - loss: 1.5587e-05 - mse: 3.1175e-05 - val_loss: 3.1577e-05 - val_mse: 6.3154e-05\n",
            "Epoch 25/50\n",
            "270/275 [============================>.] - ETA: 0s - loss: 1.4831e-05 - mse: 2.9662e-05\n",
            "Epoch 25: val_loss did not improve from 0.00003\n",
            "275/275 [==============================] - 2s 9ms/step - loss: 1.5213e-05 - mse: 3.0427e-05 - val_loss: 5.4007e-05 - val_mse: 1.0801e-04\n",
            "Epoch 26/50\n",
            "273/275 [============================>.] - ETA: 0s - loss: 1.4080e-05 - mse: 2.8160e-05\n",
            "Epoch 26: val_loss did not improve from 0.00003\n",
            "275/275 [==============================] - 2s 8ms/step - loss: 1.4238e-05 - mse: 2.8476e-05 - val_loss: 3.2888e-05 - val_mse: 6.5775e-05\n",
            "Epoch 27/50\n",
            "267/275 [============================>.] - ETA: 0s - loss: 1.4955e-05 - mse: 2.9909e-05\n",
            "Epoch 27: val_loss did not improve from 0.00003\n",
            "275/275 [==============================] - 2s 9ms/step - loss: 1.5447e-05 - mse: 3.0895e-05 - val_loss: 3.7745e-05 - val_mse: 7.5489e-05\n",
            "Epoch 28/50\n",
            "271/275 [============================>.] - ETA: 0s - loss: 1.3053e-05 - mse: 2.6107e-05\n",
            "Epoch 28: val_loss did not improve from 0.00003\n",
            "275/275 [==============================] - 3s 10ms/step - loss: 1.3224e-05 - mse: 2.6449e-05 - val_loss: 4.3168e-05 - val_mse: 8.6336e-05\n",
            "Epoch 29/50\n",
            "266/275 [============================>.] - ETA: 0s - loss: 1.4203e-05 - mse: 2.8406e-05\n",
            "Epoch 29: val_loss improved from 0.00003 to 0.00003, saving model to tmp/ckeckpointer.ckpt\n",
            "275/275 [==============================] - 2s 9ms/step - loss: 1.4586e-05 - mse: 2.9172e-05 - val_loss: 2.8815e-05 - val_mse: 5.7629e-05\n",
            "Epoch 30/50\n",
            "271/275 [============================>.] - ETA: 0s - loss: 1.4232e-05 - mse: 2.8465e-05\n",
            "Epoch 30: val_loss did not improve from 0.00003\n",
            "275/275 [==============================] - 3s 10ms/step - loss: 1.4338e-05 - mse: 2.8676e-05 - val_loss: 4.9248e-05 - val_mse: 9.8496e-05\n",
            "Epoch 31/50\n",
            "273/275 [============================>.] - ETA: 0s - loss: 1.3946e-05 - mse: 2.7892e-05\n",
            "Epoch 31: val_loss did not improve from 0.00003\n",
            "275/275 [==============================] - 2s 8ms/step - loss: 1.4011e-05 - mse: 2.8023e-05 - val_loss: 2.9884e-05 - val_mse: 5.9769e-05\n",
            "Epoch 32/50\n",
            "272/275 [============================>.] - ETA: 0s - loss: 1.3572e-05 - mse: 2.7144e-05\n",
            "Epoch 32: val_loss did not improve from 0.00003\n",
            "275/275 [==============================] - 2s 8ms/step - loss: 1.3744e-05 - mse: 2.7488e-05 - val_loss: 6.5239e-05 - val_mse: 1.3048e-04\n",
            "Epoch 33/50\n",
            "270/275 [============================>.] - ETA: 0s - loss: 1.4058e-05 - mse: 2.8117e-05\n",
            "Epoch 33: val_loss did not improve from 0.00003\n",
            "275/275 [==============================] - 2s 8ms/step - loss: 1.4338e-05 - mse: 2.8676e-05 - val_loss: 5.0174e-05 - val_mse: 1.0035e-04\n",
            "Epoch 34/50\n",
            "269/275 [============================>.] - ETA: 0s - loss: 1.2695e-05 - mse: 2.5391e-05\n",
            "Epoch 34: val_loss improved from 0.00003 to 0.00003, saving model to tmp/ckeckpointer.ckpt\n",
            "275/275 [==============================] - 2s 9ms/step - loss: 1.3048e-05 - mse: 2.6097e-05 - val_loss: 2.8635e-05 - val_mse: 5.7270e-05\n",
            "Epoch 35/50\n",
            "267/275 [============================>.] - ETA: 0s - loss: 1.4380e-05 - mse: 2.8759e-05\n",
            "Epoch 35: val_loss did not improve from 0.00003\n",
            "275/275 [==============================] - 2s 9ms/step - loss: 1.4632e-05 - mse: 2.9264e-05 - val_loss: 1.5066e-04 - val_mse: 3.0133e-04\n",
            "Epoch 36/50\n",
            "274/275 [============================>.] - ETA: 0s - loss: 1.5915e-05 - mse: 3.1829e-05\n",
            "Epoch 36: val_loss improved from 0.00003 to 0.00003, saving model to tmp/ckeckpointer.ckpt\n",
            "275/275 [==============================] - 2s 9ms/step - loss: 1.5917e-05 - mse: 3.1834e-05 - val_loss: 2.7731e-05 - val_mse: 5.5462e-05\n",
            "Epoch 37/50\n",
            "269/275 [============================>.] - ETA: 0s - loss: 1.3428e-05 - mse: 2.6856e-05\n",
            "Epoch 37: val_loss did not improve from 0.00003\n",
            "275/275 [==============================] - 3s 9ms/step - loss: 1.3800e-05 - mse: 2.7600e-05 - val_loss: 3.0973e-05 - val_mse: 6.1946e-05\n",
            "Epoch 38/50\n",
            "267/275 [============================>.] - ETA: 0s - loss: 1.2694e-05 - mse: 2.5389e-05\n",
            "Epoch 38: val_loss did not improve from 0.00003\n",
            "275/275 [==============================] - 2s 8ms/step - loss: 1.3389e-05 - mse: 2.6778e-05 - val_loss: 1.6664e-04 - val_mse: 3.3329e-04\n",
            "Epoch 39/50\n",
            "270/275 [============================>.] - ETA: 0s - loss: 1.5077e-05 - mse: 3.0154e-05\n",
            "Epoch 39: val_loss did not improve from 0.00003\n",
            "275/275 [==============================] - 2s 8ms/step - loss: 1.5345e-05 - mse: 3.0689e-05 - val_loss: 4.7430e-05 - val_mse: 9.4860e-05\n",
            "Epoch 40/50\n",
            "270/275 [============================>.] - ETA: 0s - loss: 1.1972e-05 - mse: 2.3943e-05\n",
            "Epoch 40: val_loss did not improve from 0.00003\n",
            "275/275 [==============================] - 2s 8ms/step - loss: 1.2308e-05 - mse: 2.4615e-05 - val_loss: 3.2658e-05 - val_mse: 6.5316e-05\n",
            "Epoch 41/50\n",
            "266/275 [============================>.] - ETA: 0s - loss: 1.2167e-05 - mse: 2.4335e-05\n",
            "Epoch 41: val_loss did not improve from 0.00003\n",
            "275/275 [==============================] - 2s 8ms/step - loss: 1.2654e-05 - mse: 2.5307e-05 - val_loss: 7.6609e-05 - val_mse: 1.5322e-04\n",
            "Epoch 42/50\n",
            "271/275 [============================>.] - ETA: 0s - loss: 1.1234e-05 - mse: 2.2468e-05\n",
            "Epoch 42: val_loss did not improve from 0.00003\n",
            "275/275 [==============================] - 2s 8ms/step - loss: 1.1504e-05 - mse: 2.3009e-05 - val_loss: 6.6213e-05 - val_mse: 1.3243e-04\n",
            "Epoch 43/50\n",
            "270/275 [============================>.] - ETA: 0s - loss: 1.2502e-05 - mse: 2.5004e-05\n",
            "Epoch 43: val_loss improved from 0.00003 to 0.00003, saving model to tmp/ckeckpointer.ckpt\n",
            "275/275 [==============================] - 2s 8ms/step - loss: 1.2697e-05 - mse: 2.5394e-05 - val_loss: 2.5191e-05 - val_mse: 5.0382e-05\n",
            "Epoch 44/50\n",
            "269/275 [============================>.] - ETA: 0s - loss: 1.1517e-05 - mse: 2.3034e-05\n",
            "Epoch 44: val_loss did not improve from 0.00003\n",
            "275/275 [==============================] - 2s 8ms/step - loss: 1.1857e-05 - mse: 2.3714e-05 - val_loss: 4.0160e-05 - val_mse: 8.0319e-05\n",
            "Epoch 45/50\n",
            "266/275 [============================>.] - ETA: 0s - loss: 1.3971e-05 - mse: 2.7941e-05\n",
            "Epoch 45: val_loss did not improve from 0.00003\n",
            "275/275 [==============================] - 3s 10ms/step - loss: 1.4280e-05 - mse: 2.8561e-05 - val_loss: 2.9116e-05 - val_mse: 5.8231e-05\n",
            "Epoch 46/50\n",
            "265/275 [===========================>..] - ETA: 0s - loss: 1.1127e-05 - mse: 2.2254e-05\n",
            "Epoch 46: val_loss did not improve from 0.00003\n",
            "275/275 [==============================] - 2s 8ms/step - loss: 1.2013e-05 - mse: 2.4026e-05 - val_loss: 4.0165e-05 - val_mse: 8.0331e-05\n",
            "Epoch 47/50\n",
            "267/275 [============================>.] - ETA: 0s - loss: 1.0781e-05 - mse: 2.1561e-05\n",
            "Epoch 47: val_loss did not improve from 0.00003\n",
            "275/275 [==============================] - 2s 8ms/step - loss: 1.1197e-05 - mse: 2.2395e-05 - val_loss: 3.3784e-05 - val_mse: 6.7569e-05\n",
            "Epoch 48/50\n",
            "271/275 [============================>.] - ETA: 0s - loss: 1.2819e-05 - mse: 2.5638e-05\n",
            "Epoch 48: val_loss did not improve from 0.00003\n",
            "275/275 [==============================] - 2s 8ms/step - loss: 1.3031e-05 - mse: 2.6063e-05 - val_loss: 3.1909e-05 - val_mse: 6.3818e-05\n",
            "Epoch 49/50\n",
            "269/275 [============================>.] - ETA: 0s - loss: 1.1722e-05 - mse: 2.3443e-05\n",
            "Epoch 49: val_loss did not improve from 0.00003\n",
            "275/275 [==============================] - 2s 8ms/step - loss: 1.1928e-05 - mse: 2.3856e-05 - val_loss: 1.7374e-04 - val_mse: 3.4748e-04\n",
            "Epoch 50/50\n",
            "275/275 [==============================] - ETA: 0s - loss: 1.4626e-05 - mse: 2.9253e-05\n",
            "Epoch 50: val_loss did not improve from 0.00003\n",
            "275/275 [==============================] - 2s 8ms/step - loss: 1.4626e-05 - mse: 2.9253e-05 - val_loss: 6.9234e-05 - val_mse: 1.3847e-04\n"
          ]
        }
      ]
    },
    {
      "cell_type": "code",
      "source": [
        "model.load_weights(filename)"
      ],
      "metadata": {
        "colab": {
          "base_uri": "https://localhost:8080/"
        },
        "id": "ZoeCCvrszuke",
        "outputId": "88f01f6f-90be-4541-cc5c-c0ba893884d6"
      },
      "execution_count": null,
      "outputs": [
        {
          "output_type": "execute_result",
          "data": {
            "text/plain": [
              "<tensorflow.python.training.tracking.util.CheckpointLoadStatus at 0x7fe67a665e90>"
            ]
          },
          "metadata": {},
          "execution_count": 31
        }
      ]
    },
    {
      "cell_type": "code",
      "source": [
        "pred = model.predict(test_data)"
      ],
      "metadata": {
        "id": "m9EWuNTPzzUV"
      },
      "execution_count": null,
      "outputs": []
    },
    {
      "cell_type": "code",
      "source": [
        "pred.shape"
      ],
      "metadata": {
        "colab": {
          "base_uri": "https://localhost:8080/"
        },
        "id": "pZuxBXn1z3Qd",
        "outputId": "a1b362a6-4e05-49d3-c45c-f5f1f385aad1"
      },
      "execution_count": null,
      "outputs": [
        {
          "output_type": "execute_result",
          "data": {
            "text/plain": [
              "(2179, 1)"
            ]
          },
          "metadata": {},
          "execution_count": 33
        }
      ]
    },
    {
      "cell_type": "code",
      "source": [
        "plt.figure(figsize=(20, 10))\n",
        "plt.plot(np.asarray(y_test)[20:], label='actual')\n",
        "plt.plot(pred, label='prediction')\n",
        "plt.legend()\n",
        "plt.show()"
      ],
      "metadata": {
        "colab": {
          "base_uri": "https://localhost:8080/",
          "height": 592
        },
        "id": "yuiTU_Ejz6w4",
        "outputId": "0b678078-9aad-4cb1-d963-c9cf589d17ed"
      },
      "execution_count": null,
      "outputs": [
        {
          "output_type": "display_data",
          "data": {
            "text/plain": [
              "<Figure size 1440x720 with 1 Axes>"
            ],
            "image/png": "[encoded data removed]"
          },
          "metadata": {
            "needs_background": "light"
          }
        }
      ]
    }
  ]
}