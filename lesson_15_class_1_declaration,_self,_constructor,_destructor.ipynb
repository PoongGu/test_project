{
  "cells": [
    {
      "cell_type": "markdown",
      "metadata": {
        "id": "view-in-github",
        "colab_type": "text"
      },
      "source": [
        "<a href=\"https://colab.research.google.com/github/PoongGu/test_project/blob/main/lesson_15_class_1_declaration%2C_self%2C_constructor%2C_destructor.ipynb\" target=\"_parent\"><img src=\"https://colab.research.google.com/assets/colab-badge.svg\" alt=\"Open In Colab\"/></a>"
      ]
    },
    {
      "cell_type": "markdown",
      "metadata": {
        "id": "kcTLc-jJMJoA"
      },
      "source": [
        "## Class\n",
        "    - 변수와 함수를 묶어놓은 개념\n",
        "    - 클래스 선언\n",
        "        - 변수와 함수를 클래스 안에서 선언\n",
        "    - 클래스를 객체로 만들어서 클래스 안의 변수와 함수를 사용\n",
        "    - 인스턴스 : 클래스에서 만들어지는 개별적인 객체"
      ]
    },
    {
      "cell_type": "markdown",
      "metadata": {
        "id": "JKFYHklQMJoF"
      },
      "source": [
        "### Basic class"
      ]
    },
    {
      "cell_type": "markdown",
      "metadata": {
        "id": "gjM1blrfMJoG"
      },
      "source": [
        "#### class 선언"
      ]
    },
    {
      "cell_type": "code",
      "execution_count": 1,
      "metadata": {
        "id": "8x8k1qj_MJoG"
      },
      "outputs": [],
      "source": [
        "class Account:\n",
        "    \n",
        "  \n",
        "    loan = 0 # 클래스 변수\n",
        "    deposit = 0\n",
        "    \n",
        "    def save(self, money):\n",
        "        self.deposit += money\n",
        "        print(\"현재 계좌 잔액은 {}원 입니다.\".format(self.deposit))\n",
        "        \n",
        "    def withdraw(self, money):\n",
        "        self.deposit -= money\n",
        "        print(\"인출 금액은 {}원 입니다. 현재 계좌 잔액은 {}원 입니다.\".format(money, self.deposit))\n",
        "    \n",
        "    def debt(self, d_money):\n",
        "        self.deposit += d_money\n",
        "        self.credit_debt = d_money + self.loan\n",
        "        return -int(self.credit_debt)"
      ]
    },
    {
      "cell_type": "code",
      "execution_count": 5,
      "metadata": {
        "id": "CUAwx2RdMJoH"
      },
      "outputs": [],
      "source": [
        "acc = Account()"
      ]
    },
    {
      "cell_type": "code",
      "execution_count": 6,
      "metadata": {
        "id": "VFfx6igaMJoH",
        "colab": {
          "base_uri": "https://localhost:8080/"
        },
        "outputId": "b7adef29-6868-4a2a-df0a-a50df64dbb00"
      },
      "outputs": [
        {
          "output_type": "execute_result",
          "data": {
            "text/plain": [
              "0"
            ]
          },
          "metadata": {},
          "execution_count": 6
        }
      ],
      "source": [
        "acc.loan"
      ]
    },
    {
      "cell_type": "markdown",
      "metadata": {
        "id": "FJs0e2BiMJoH"
      },
      "source": [
        "#### self\n",
        "    - 객체 자신"
      ]
    },
    {
      "cell_type": "code",
      "execution_count": 7,
      "metadata": {
        "id": "dnSOajdUMJoI"
      },
      "outputs": [],
      "source": [
        "acc2 = Account()"
      ]
    },
    {
      "cell_type": "code",
      "execution_count": 8,
      "metadata": {
        "id": "D85kSzWNMJoI",
        "colab": {
          "base_uri": "https://localhost:8080/"
        },
        "outputId": "398a846e-fcf4-4302-9328-e84304b1e911"
      },
      "outputs": [
        {
          "output_type": "stream",
          "name": "stdout",
          "text": [
            "빌린 돈이 1000이 있습니다.\n"
          ]
        }
      ],
      "source": [
        "acc2.loan = 1000\n",
        "print(f\"빌린 돈이 {acc2.loan}이 있습니다.\")"
      ]
    },
    {
      "cell_type": "code",
      "execution_count": 10,
      "metadata": {
        "id": "bKTitV0OMJoI",
        "colab": {
          "base_uri": "https://localhost:8080/"
        },
        "outputId": "4ac79d09-cdf8-454b-b246-c5b931ff1fe8"
      },
      "outputs": [
        {
          "output_type": "stream",
          "name": "stdout",
          "text": [
            "빚은 -1500이 있습니다.\n"
          ]
        }
      ],
      "source": [
        "print(f'빚은 {acc2.debt(500)}이 있습니다.')"
      ]
    },
    {
      "cell_type": "markdown",
      "metadata": {
        "id": "sWDrnngAMJoJ"
      },
      "source": [
        "#### 생성자\n",
        "    - 클래스의 인스턴스 객체가 생성될 때 자동으로 호출되는 메소드"
      ]
    },
    {
      "cell_type": "code",
      "execution_count": 22,
      "metadata": {
        "id": "K-uEx3roMJoJ"
      },
      "outputs": [],
      "source": [
        "class Account:\n",
        "    \n",
        "    def __init__(self, loan=0):\n",
        "      self.deposit = 0\n",
        "      self.loan = loan\n",
        "      print(\"계좌가 개설되었습니다!\")\n",
        "      \n",
        "    def save(self, money):\n",
        "        self.deposit += money\n",
        "        print(\"현재 계좌 잔액은 {}원 입니다.\".format(self.deposit))\n",
        "        \n",
        "    def withdraw(self, money):\n",
        "        self.deposit -= money\n",
        "        print(\"인출 금액은 {}원 입니다. 현재 계좌 잔액은 {}원 입니다.\".format(money, self.deposit))\n",
        "    \n",
        "    def debt(self, d_money):\n",
        "        self.deposit += d_money\n",
        "        self.credit_debt = d_money + self.loan\n",
        "        return -int(self.credit_debt)"
      ]
    },
    {
      "cell_type": "code",
      "execution_count": 21,
      "metadata": {
        "id": "s8ZPeVv2MJoK"
      },
      "outputs": [],
      "source": [
        "acc3 = Account()"
      ]
    },
    {
      "cell_type": "code",
      "execution_count": 13,
      "metadata": {
        "id": "pE8VsqKMMJoK",
        "colab": {
          "base_uri": "https://localhost:8080/"
        },
        "outputId": "41f88d25-db17-4005-81b2-1aac24fa519e"
      },
      "outputs": [
        {
          "output_type": "execute_result",
          "data": {
            "text/plain": [
              "500"
            ]
          },
          "metadata": {},
          "execution_count": 13
        }
      ],
      "source": [
        "acc3.loan = 500\n",
        "acc3.loan"
      ]
    },
    {
      "cell_type": "code",
      "execution_count": 14,
      "metadata": {
        "id": "AkWdsZI8MJoK",
        "colab": {
          "base_uri": "https://localhost:8080/"
        },
        "outputId": "7088022b-f730-4ee7-c3d3-2d9fb660915c"
      },
      "outputs": [
        {
          "output_type": "execute_result",
          "data": {
            "text/plain": [
              "-1500"
            ]
          },
          "metadata": {},
          "execution_count": 14
        }
      ],
      "source": [
        "acc3.debt(1000)"
      ]
    },
    {
      "cell_type": "code",
      "execution_count": 23,
      "metadata": {
        "id": "9b6BxrpTMJoK",
        "colab": {
          "base_uri": "https://localhost:8080/"
        },
        "outputId": "d5093a2d-6d61-4839-e3e3-c97e79b219df"
      },
      "outputs": [
        {
          "output_type": "stream",
          "name": "stdout",
          "text": [
            "계좌가 개설되었습니다!\n",
            "계좌에 있던 대출과 내가 빌린 빚의 합은 -700입니다.\n"
          ]
        }
      ],
      "source": [
        "acc4 = Account(200)\n",
        "print(f\"계좌에 있던 대출과 내가 빌린 빚의 합은 {acc4.debt(500)}입니다.\")"
      ]
    },
    {
      "cell_type": "markdown",
      "metadata": {
        "id": "dL4DwbLFMJoL"
      },
      "source": [
        "#### 소멸자\n",
        "    - 객체가 사라질 때 자동으로 호출되는 함수"
      ]
    },
    {
      "cell_type": "code",
      "execution_count": 29,
      "metadata": {
        "id": "hDuSe0usMJoL"
      },
      "outputs": [],
      "source": [
        "class Account:\n",
        "    \n",
        "    def __init__(self, loan=0):\n",
        "      self.deposit = 0\n",
        "      self.loan = loan\n",
        "      print(\"계좌가 개설되었습니다!\")\n",
        "      \n",
        "    def save(self, money):\n",
        "        self.deposit += money\n",
        "        print(\"현재 계좌 잔액은 {}원 입니다.\".format(self.deposit))\n",
        "        \n",
        "    def withdraw(self, money):\n",
        "        self.deposit -= money\n",
        "        print(\"인출 금액은 {}원 입니다. 현재 계좌 잔액은 {}원 입니다.\".format(money, self.deposit))\n",
        "    \n",
        "    def debt(self, d_money):\n",
        "        self.deposit += d_money\n",
        "        self.credit_debt = d_money + self.loan\n",
        "        return -int(self.credit_debt)\n",
        "\n",
        "    def __del__(self):\n",
        "      print(\"계좌가 폐쇄되었습니다. 이용해주셔서 감사합니다.\")"
      ]
    },
    {
      "cell_type": "code",
      "source": [
        "%reset"
      ],
      "metadata": {
        "colab": {
          "base_uri": "https://localhost:8080/"
        },
        "id": "dKSsJXJa5MOS",
        "outputId": "f202a27d-1d78-45f7-9fbc-7e4a43888afc"
      },
      "execution_count": 28,
      "outputs": [
        {
          "name": "stdout",
          "output_type": "stream",
          "text": [
            "Once deleted, variables cannot be recovered. Proceed (y/[n])? y\n"
          ]
        }
      ]
    },
    {
      "cell_type": "code",
      "execution_count": 31,
      "metadata": {
        "id": "R7RfYlMoMJoL",
        "colab": {
          "base_uri": "https://localhost:8080/"
        },
        "outputId": "e0de0d60-d004-4fb4-bea7-92ad317eb95b"
      },
      "outputs": [
        {
          "output_type": "stream",
          "name": "stdout",
          "text": [
            "계좌가 개설되었습니다!\n"
          ]
        }
      ],
      "source": [
        "acc5 = Account()"
      ]
    },
    {
      "cell_type": "code",
      "execution_count": 33,
      "metadata": {
        "id": "zh8JxZSoMJoL",
        "colab": {
          "base_uri": "https://localhost:8080/",
          "height": 137
        },
        "outputId": "29d1e677-f51c-4069-b9a8-bac54ddce5ac"
      },
      "outputs": [
        {
          "output_type": "error",
          "ename": "SyntaxError",
          "evalue": "ignored",
          "traceback": [
            "\u001b[0;36m  File \u001b[0;32m\"<ipython-input-33-04cdeab51bc0>\"\u001b[0;36m, line \u001b[0;32m1\u001b[0m\n\u001b[0;31m    acc5.del\u001b[0m\n\u001b[0m           ^\u001b[0m\n\u001b[0;31mSyntaxError\u001b[0m\u001b[0;31m:\u001b[0m invalid syntax\n"
          ]
        }
      ],
      "source": [
        "del acc5"
      ]
    },
    {
      "cell_type": "code",
      "source": [
        ""
      ],
      "metadata": {
        "id": "fLf16S7e5Jpk"
      },
      "execution_count": null,
      "outputs": []
    }
  ],
  "metadata": {
    "hide_input": false,
    "kernelspec": {
      "display_name": "Python 3",
      "language": "python",
      "name": "python3"
    },
    "language_info": {
      "codemirror_mode": {
        "name": "ipython",
        "version": 3
      },
      "file_extension": ".py",
      "mimetype": "text/x-python",
      "name": "python",
      "nbconvert_exporter": "python",
      "pygments_lexer": "ipython3",
      "version": "3.8.5"
    },
    "toc": {
      "base_numbering": 1,
      "nav_menu": {},
      "number_sections": true,
      "sideBar": true,
      "skip_h1_title": false,
      "title_cell": "Table of Contents",
      "title_sidebar": "Contents",
      "toc_cell": false,
      "toc_position": {},
      "toc_section_display": true,
      "toc_window_display": false
    },
    "varInspector": {
      "cols": {
        "lenName": 16,
        "lenType": 16,
        "lenVar": 40
      },
      "kernels_config": {
        "python": {
          "delete_cmd_postfix": "",
          "delete_cmd_prefix": "del ",
          "library": "var_list.py",
          "varRefreshCmd": "print(var_dic_list())"
        },
        "r": {
          "delete_cmd_postfix": ") ",
          "delete_cmd_prefix": "rm(",
          "library": "var_list.r",
          "varRefreshCmd": "cat(var_dic_list()) "
        }
      },
      "types_to_exclude": [
        "module",
        "function",
        "builtin_function_or_method",
        "instance",
        "_Feature"
      ],
      "window_display": false
    },
    "colab": {
      "name": "lesson 15. class 1 - declaration, self, constructor, destructor.ipynb",
      "provenance": [],
      "collapsed_sections": [],
      "include_colab_link": true
    }
  },
  "nbformat": 4,
  "nbformat_minor": 0
}