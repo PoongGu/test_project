{
  "cells": [
    {
      "cell_type": "markdown",
      "metadata": {
        "id": "view-in-github",
        "colab_type": "text"
      },
      "source": [
        "<a href=\"https://colab.research.google.com/github/27261626/test_project/blob/main/lesson_03_tuple%26dic_type%2C_type_change.ipynb\" target=\"_parent\"><img src=\"https://colab.research.google.com/assets/colab-badge.svg\" alt=\"Open In Colab\"/></a>"
      ]
    },
    {
      "cell_type": "markdown",
      "metadata": {
        "id": "cCOOOfI6j2bE"
      },
      "source": [
        "### Tuple Function\n",
        "    list보다 같은 데이터를 가졌을 때 공간을 적게 사용"
      ]
    },
    {
      "cell_type": "code",
      "execution_count": null,
      "metadata": {
        "id": "EQ9-aEB8j2bI"
      },
      "outputs": [],
      "source": [
        "tp1 = 1, 2, 3\n",
        "tp2 = (4, 5, 6)\n",
        "type(tp1), type(tp2), tp1, tp2"
      ]
    },
    {
      "cell_type": "code",
      "execution_count": null,
      "metadata": {
        "id": "qG08grXUj2bJ"
      },
      "outputs": [],
      "source": [
        "a, b = 10, 20 # a=10, b=20\n",
        "a, b"
      ]
    },
    {
      "cell_type": "markdown",
      "metadata": {
        "id": "WbzpX4Sqj2bK"
      },
      "source": [
        "#### list와 마찬가지로 offset index 사용 가능"
      ]
    },
    {
      "cell_type": "code",
      "execution_count": null,
      "metadata": {
        "id": "ySNMfXqOj2bK"
      },
      "outputs": [],
      "source": [
        "tp1[0], tp2[::-1]\n"
      ]
    },
    {
      "cell_type": "markdown",
      "metadata": {
        "id": "4T34IxLfj2bL"
      },
      "source": [
        "#### list와 tuple의 저장공간 비교"
      ]
    },
    {
      "cell_type": "code",
      "execution_count": 1,
      "metadata": {
        "id": "antsMB4Oj2bL",
        "colab": {
          "base_uri": "https://localhost:8080/"
        },
        "outputId": "a28aba2c-9c25-452b-ff1e-a069120513e0"
      },
      "outputs": [
        {
          "output_type": "stream",
          "name": "stdout",
          "text": [
            "96 80\n"
          ]
        }
      ],
      "source": [
        "import sys\n",
        "ls = [1, 2, 3]\n",
        "tp = (1, 2, 3)\n",
        "print(sys.getsizeof(ls), sys.getsizeof(tp))\n"
      ]
    },
    {
      "cell_type": "markdown",
      "metadata": {
        "id": "NYH3itGuj2bM"
      },
      "source": [
        "#### tuple 활용\n",
        "    절대로 변경이 되어선 안되는 데이터를 작성하는 경우"
      ]
    },
    {
      "cell_type": "code",
      "execution_count": null,
      "metadata": {
        "id": "OhmJtql8j2bM"
      },
      "outputs": [],
      "source": [
        "# 카드 포인트 적립\n",
        "rate = (0, 0.003)\n",
        "print(type(rate), rate)\n",
        "card = 100_000  # 100,000\n",
        "point = (card, rate)\n",
        "print(type(point), point)\n",
        "point_combi = point[0] * point[1][1]"
      ]
    },
    {
      "cell_type": "markdown",
      "source": [
        "### Dictionary(dict)\n",
        "    순서가 없고 {키:값}으로 구성되어 있는 데이터 타입"
      ],
      "metadata": {
        "id": "MMNuiLKMkRhp"
      }
    },
    {
      "cell_type": "code",
      "execution_count": 2,
      "metadata": {
        "id": "tG2RU8BJj2bM",
        "colab": {
          "base_uri": "https://localhost:8080/"
        },
        "outputId": "c6c509a2-1ec0-476a-f3bd-95888ec52708"
      },
      "outputs": [
        {
          "output_type": "execute_result",
          "data": {
            "text/plain": [
              "(dict, {1: '첫번째', 3: [3, 4, 5], 'second': 2, 'training data': 'data'})"
            ]
          },
          "metadata": {},
          "execution_count": 2
        }
      ],
      "source": [
        "dic = {\n",
        "    \"training data\":\"data\",\n",
        "    1 : \"첫번째\",\n",
        "    \"second\" : 2,\n",
        "    3 : [3, 4, 5]\n",
        "}\n",
        "type(dic), dic"
      ]
    },
    {
      "cell_type": "code",
      "execution_count": null,
      "metadata": {
        "id": "eGodFMlqj2bM"
      },
      "outputs": [],
      "source": [
        "# key와 value를 하나씩 직접 입력하여 작성하는 방법\n",
        "dic2 = {}\n",
        "dic2['DEEP:PHI'] = 'https://www.deepphi.ai/home'\n",
        "dic2['deepnoid'] = 'https://www.deepnoid.com/'\n",
        "dic2"
      ]
    },
    {
      "cell_type": "markdown",
      "source": [
        "#### dict 출력방법\n",
        "    dict[key값]"
      ],
      "metadata": {
        "id": "USdIb8YwkVZh"
      }
    },
    {
      "cell_type": "code",
      "execution_count": null,
      "metadata": {
        "id": "AK38Gno7j2bN"
      },
      "outputs": [],
      "source": [
        "dic[1], dic[\"second\"]\n"
      ]
    },
    {
      "cell_type": "code",
      "source": [
        "dic[0] # 순서가 없는 데이터 타입이므로 index를 사용할 수 없음"
      ],
      "metadata": {
        "id": "KmRhgti6kXXp",
        "colab": {
          "base_uri": "https://localhost:8080/",
          "height": 174
        },
        "outputId": "7035f407-6e0f-4bb8-b303-215fc64b1580"
      },
      "execution_count": 3,
      "outputs": [
        {
          "output_type": "error",
          "ename": "KeyError",
          "evalue": "ignored",
          "traceback": [
            "\u001b[0;31m---------------------------------------------------------------------------\u001b[0m",
            "\u001b[0;31mKeyError\u001b[0m                                  Traceback (most recent call last)",
            "\u001b[0;32m<ipython-input-3-81d649b08667>\u001b[0m in \u001b[0;36m<module>\u001b[0;34m()\u001b[0m\n\u001b[0;32m----> 1\u001b[0;31m \u001b[0mdic\u001b[0m\u001b[0;34m[\u001b[0m\u001b[0;36m0\u001b[0m\u001b[0;34m]\u001b[0m \u001b[0;31m# 순서가 없는 데이터 타입이므로 index를 사용할 수 없음\u001b[0m\u001b[0;34m\u001b[0m\u001b[0;34m\u001b[0m\u001b[0m\n\u001b[0m",
            "\u001b[0;31mKeyError\u001b[0m: 0"
          ]
        }
      ]
    },
    {
      "cell_type": "markdown",
      "source": [
        "#### dict형 데이터 타입 key, value값 확인\n",
        "    keys() : key값을 확인\n",
        "    values() : value값을 확인\n",
        "        각각 리스트 타입으로 출력\n",
        "    items() : key, value의 쌍으로 출력\n",
        "        쌍을 이루고 수정이 불가능하므로 튜플 타입으로 출력\n",
        "        \n",
        "    ※ 주의 : 출력이 각각 list, tuple 타입으로 나타나지만 본래 데이터는 dict 타입이므로 순서가 없음\n",
        "            즉, offset index를 사용할 수 없다!"
      ],
      "metadata": {
        "id": "stLmThIokYsy"
      }
    },
    {
      "cell_type": "code",
      "source": [
        "dic.keys(), dic.values(), dic.items()"
      ],
      "metadata": {
        "id": "rlpx8Go9kbVZ"
      },
      "execution_count": null,
      "outputs": []
    },
    {
      "cell_type": "code",
      "source": [
        "for key in dic.keys():\n",
        "    print(key)"
      ],
      "metadata": {
        "id": "y6IiaawSkcUV"
      },
      "execution_count": null,
      "outputs": []
    },
    {
      "cell_type": "code",
      "source": [
        "for items in dic.items():\n",
        "    print(items)"
      ],
      "metadata": {
        "id": "P3bYtRULkdsR"
      },
      "execution_count": null,
      "outputs": []
    },
    {
      "cell_type": "markdown",
      "source": [
        "### length 구하기\n",
        "    문자열, list, tuple, dict 타입의 경우 데이터의 길이(혹은 갯수)를 셀 수 있음\n",
        "```python\n",
        "len(구하고자 하는 데이터타입)\n",
        "```"
      ],
      "metadata": {
        "id": "g_14zkJQkf7a"
      }
    },
    {
      "cell_type": "code",
      "source": [
        "# string type\n",
        "text = \"hello python\"\n",
        "len(text) # 공백을 포함한 길이"
      ],
      "metadata": {
        "id": "wAS9O_TbkeYh"
      },
      "execution_count": null,
      "outputs": []
    },
    {
      "cell_type": "code",
      "source": [
        "# list type\n",
        "ls = [1, 2, 3, 4, 5]\n",
        "len(ls)"
      ],
      "metadata": {
        "id": "3-EIQCTMkh5x"
      },
      "execution_count": null,
      "outputs": []
    },
    {
      "cell_type": "code",
      "source": [
        "# tuple type\n",
        "tp = (10, 20, 30, 40)\n",
        "len(tp)\n"
      ],
      "metadata": {
        "id": "-vtRY7dxkh2h"
      },
      "execution_count": null,
      "outputs": []
    },
    {
      "cell_type": "code",
      "source": [
        "# dict type도 가능할까?\n",
        "dic = { 0:\"kim\", 1:\"python\", 2:\"data\"}\n",
        "len(dic)"
      ],
      "metadata": {
        "id": "6GG3IGfzkhz5"
      },
      "execution_count": null,
      "outputs": []
    },
    {
      "cell_type": "code",
      "source": [
        "# 숫자형은 안되요!\n",
        "nb = 123\n",
        "len(nb)\n"
      ],
      "metadata": {
        "id": "Bup_hL5UkkgJ"
      },
      "execution_count": null,
      "outputs": []
    },
    {
      "cell_type": "markdown",
      "source": [
        "### Type change\n",
        "    - 데이터 타입을 변환하는 방법\n",
        "    - 형태의 종류\n",
        "        int, float, bool, str, list, tuple, dict"
      ],
      "metadata": {
        "id": "EJtPSUhnkmo6"
      }
    },
    {
      "cell_type": "code",
      "source": [
        "type(dic.values())"
      ],
      "metadata": {
        "id": "n_fH08Vjkonx"
      },
      "execution_count": null,
      "outputs": []
    },
    {
      "cell_type": "code",
      "source": [
        "type(list(dic.values()))"
      ],
      "metadata": {
        "id": "-GvdXtldkpxJ"
      },
      "execution_count": null,
      "outputs": []
    },
    {
      "cell_type": "code",
      "source": [
        "dic_list = list(dic.values())\n",
        "dic_list[0]\n"
      ],
      "metadata": {
        "id": "C6oc37pJkqlJ"
      },
      "execution_count": null,
      "outputs": []
    },
    {
      "cell_type": "code",
      "source": [
        "a=1 # int\n",
        "print(type(a),a)\n",
        "b=float(a)\n",
        "print(type(b),b)\n",
        "c=str(b)\n",
        "print(type(c),c)"
      ],
      "metadata": {
        "id": "2MEkLrR1krXB"
      },
      "execution_count": null,
      "outputs": []
    },
    {
      "cell_type": "markdown",
      "source": [
        "#### list -> dict로 만들기\n",
        "    zip : 같은 index끼리 묶어주는 함수"
      ],
      "metadata": {
        "id": "A2_eOW6-kw4U"
      }
    },
    {
      "cell_type": "code",
      "source": [
        "classes = ['Supervised learning','Unsupervised learning', 'Reinforcement learning']\n",
        "subject = ['classification', 'clustering', 'game AI']\n",
        "dic = dict(zip(classes, subject))"
      ],
      "metadata": {
        "id": "iAbnwtWbkweT"
      },
      "execution_count": null,
      "outputs": []
    },
    {
      "cell_type": "code",
      "source": [
        "dict(zip(classes, subject))\n",
        "type(dic)"
      ],
      "metadata": {
        "id": "LFrDjRmrkyyZ"
      },
      "execution_count": null,
      "outputs": []
    }
  ],
  "metadata": {
    "kernelspec": {
      "display_name": "Python 3",
      "language": "python",
      "name": "python3"
    },
    "language_info": {
      "codemirror_mode": {
        "name": "ipython",
        "version": 3
      },
      "file_extension": ".py",
      "mimetype": "text/x-python",
      "name": "python",
      "nbconvert_exporter": "python",
      "pygments_lexer": "ipython3",
      "version": "3.8.5"
    },
    "toc": {
      "base_numbering": 1,
      "nav_menu": {},
      "number_sections": true,
      "sideBar": true,
      "skip_h1_title": false,
      "title_cell": "Table of Contents",
      "title_sidebar": "Contents",
      "toc_cell": false,
      "toc_position": {},
      "toc_section_display": true,
      "toc_window_display": false
    },
    "colab": {
      "name": "lesson 03. tuple&dic type, type change.ipynb",
      "provenance": [],
      "collapsed_sections": [],
      "include_colab_link": true
    }
  },
  "nbformat": 4,
  "nbformat_minor": 0
}