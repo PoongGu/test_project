{
  "cells": [
    {
      "cell_type": "markdown",
      "metadata": {
        "id": "view-in-github",
        "colab_type": "text"
      },
      "source": [
        "<a href=\"https://colab.research.google.com/github/PoongGu/test_project/blob/main/lesson_03_numpy_3_modules_statistics%2C_lin%2Clogspace%2C_random.ipynb\" target=\"_parent\"><img src=\"https://colab.research.google.com/assets/colab-badge.svg\" alt=\"Open In Colab\"/></a>"
      ]
    },
    {
      "cell_type": "markdown",
      "metadata": {
        "id": "Nxf8CYBAdwYc"
      },
      "source": [
        "### Numpy modules"
      ]
    },
    {
      "cell_type": "code",
      "execution_count": 21,
      "metadata": {
        "ExecuteTime": {
          "end_time": "2021-02-02T03:35:32.486108Z",
          "start_time": "2021-02-02T03:35:32.473142Z"
        },
        "colab": {
          "base_uri": "https://localhost:8080/"
        },
        "id": "8UWHekoCdwYm",
        "outputId": "22348b29-497b-4eca-d523-f281f8d50ee8"
      },
      "outputs": [
        {
          "output_type": "execute_result",
          "data": {
            "text/plain": [
              "array([26, 28, 30, 35, 27, 31, 44])"
            ]
          },
          "metadata": {},
          "execution_count": 21
        }
      ],
      "source": [
        "import numpy as np\n",
        "\n",
        "ary = [26, 28, 30, 35, 27, 31, 44]\n",
        "ary = np.array(ary)\n",
        "ary"
      ]
    },
    {
      "cell_type": "code",
      "source": [
        "arr = np.random.randn(100)\n",
        "arr"
      ],
      "metadata": {
        "colab": {
          "base_uri": "https://localhost:8080/"
        },
        "id": "dajj16-Zd0aL",
        "outputId": "4a7dfa24-a6e2-4eec-e9c5-b8aea2ba00ca"
      },
      "execution_count": 22,
      "outputs": [
        {
          "output_type": "execute_result",
          "data": {
            "text/plain": [
              "array([-1.10061918,  1.14472371,  0.90159072,  0.50249434,  0.90085595,\n",
              "       -0.68372786, -0.12289023, -0.93576943, -0.26788808,  0.53035547,\n",
              "       -0.69166075, -0.39675353, -0.6871727 , -0.84520564, -0.67124613,\n",
              "       -0.0126646 , -1.11731035,  0.2344157 ,  1.65980218,  0.74204416,\n",
              "       -0.19183555, -0.88762896, -0.74715829,  1.6924546 ,  0.05080775,\n",
              "       -0.63699565,  0.19091548,  2.10025514,  0.12015895,  0.61720311,\n",
              "        0.30017032, -0.35224985, -1.1425182 , -0.34934272, -0.20889423,\n",
              "        0.58662319,  0.83898341,  0.93110208,  0.28558733,  0.88514116,\n",
              "       -0.75439794,  1.25286816,  0.51292982, -0.29809284,  0.48851815,\n",
              "       -0.07557171,  1.13162939,  1.51981682,  2.18557541, -1.39649634,\n",
              "       -1.44411381, -0.50446586,  0.16003707,  0.87616892,  0.31563495,\n",
              "       -2.02220122, -0.30620401,  0.82797464,  0.23009474,  0.76201118,\n",
              "       -0.22232814, -0.20075807,  0.18656139,  0.41005165,  0.19829972,\n",
              "        0.11900865, -0.67066229,  0.37756379,  0.12182127,  1.12948391,\n",
              "        1.19891788,  0.18515642, -0.37528495, -0.63873041,  0.42349435,\n",
              "        0.07734007, -0.34385368,  0.04359686, -0.62000084,  0.69803203,\n",
              "       -0.44712856,  1.2245077 ,  0.40349164,  0.59357852, -1.09491185,\n",
              "        0.16938243,  0.74055645, -0.9537006 , -0.26621851,  0.03261455,\n",
              "       -1.37311732,  0.31515939,  0.84616065, -0.85951594,  0.35054598,\n",
              "       -1.31228341, -0.03869551, -1.61577235,  1.12141771,  0.40890054])"
            ]
          },
          "metadata": {},
          "execution_count": 22
        }
      ]
    },
    {
      "cell_type": "markdown",
      "metadata": {
        "id": "KQTjdvjEdwYs"
      },
      "source": [
        "#### Statistics modules\n",
        "    - max, min, median, mean, std, var\n",
        "    - cov, corrcoef"
      ]
    },
    {
      "cell_type": "code",
      "execution_count": 23,
      "metadata": {
        "ExecuteTime": {
          "end_time": "2021-02-02T03:38:09.267774Z",
          "start_time": "2021-02-02T03:38:09.249809Z"
        },
        "colab": {
          "base_uri": "https://localhost:8080/"
        },
        "id": "5AvbWc2GdwYv",
        "outputId": "b07e462d-ae33-4619-b18e-7a1ccdda4b18"
      },
      "outputs": [
        {
          "output_type": "execute_result",
          "data": {
            "text/plain": [
              "(2.1855754065331614,\n",
              " -2.022201215824003,\n",
              " 0.06970549447305932,\n",
              " 0.679775397885683,\n",
              " 0.8244849288408388)"
            ]
          },
          "metadata": {},
          "execution_count": 23
        }
      ],
      "source": [
        "np.max(arr), np.min(arr), np.mean(arr), np.var(arr), np.std(arr)"
      ]
    },
    {
      "cell_type": "markdown",
      "metadata": {
        "id": "WmMNgtSjdwYx"
      },
      "source": [
        "#### linspace, logspace\n",
        "    - linspace : 설정한 범위에서 선형적으로 분할한 위치의 값을 출력\n",
        "    - logspace : 설정한 범위에서 로그로 분할한 위치의 값을 출력"
      ]
    },
    {
      "cell_type": "code",
      "execution_count": 24,
      "metadata": {
        "ExecuteTime": {
          "end_time": "2021-02-02T03:51:13.748004Z",
          "start_time": "2021-02-02T03:51:13.730613Z"
        },
        "colab": {
          "base_uri": "https://localhost:8080/"
        },
        "id": "WV-YOqFkdwY1",
        "outputId": "744e00c8-b471-491f-da77-9b3b9516bfd5"
      },
      "outputs": [
        {
          "output_type": "execute_result",
          "data": {
            "text/plain": [
              "array([  0.,  25.,  50.,  75., 100.])"
            ]
          },
          "metadata": {},
          "execution_count": 24
        }
      ],
      "source": [
        "np.linspace(0, 100,5 )"
      ]
    },
    {
      "cell_type": "markdown",
      "metadata": {
        "id": "FmE_OuBqdwY5"
      },
      "source": [
        "##### logspace\n",
        "    - log10(x1)=2, log_10(x_2)=4"
      ]
    },
    {
      "cell_type": "code",
      "execution_count": 25,
      "metadata": {
        "ExecuteTime": {
          "end_time": "2021-02-02T03:51:34.294992Z",
          "start_time": "2021-02-02T03:51:34.278064Z"
        },
        "colab": {
          "base_uri": "https://localhost:8080/"
        },
        "id": "SESKCZSkdwY7",
        "outputId": "196e8ba6-6a08-4609-ecd6-e2e95dd3b151"
      },
      "outputs": [
        {
          "output_type": "execute_result",
          "data": {
            "text/plain": [
              "array([  100.,  1000., 10000.])"
            ]
          },
          "metadata": {},
          "execution_count": 25
        }
      ],
      "source": [
        "np.logspace(2, 4, 3)"
      ]
    },
    {
      "cell_type": "markdown",
      "metadata": {
        "id": "8Sjrpt5IdwY8"
      },
      "source": [
        "##### 2000년 최저시급과 2019년 최저시급을 가정하여 선형적 증가 추세를 보고싶다면?"
      ]
    },
    {
      "cell_type": "code",
      "execution_count": 26,
      "metadata": {
        "ExecuteTime": {
          "end_time": "2021-02-02T03:59:45.411658Z",
          "start_time": "2021-02-02T03:59:45.397700Z"
        },
        "colab": {
          "base_uri": "https://localhost:8080/"
        },
        "id": "DayFTFGsdwY_",
        "outputId": "fd0e6131-bd35-423f-f1b5-f274d300c0df"
      },
      "outputs": [
        {
          "output_type": "execute_result",
          "data": {
            "text/plain": [
              "array([1600., 2350., 3100., 3850., 4600., 5350., 6100., 6850., 7600.,\n",
              "       8350.])"
            ]
          },
          "metadata": {},
          "execution_count": 26
        }
      ],
      "source": [
        "time_00 = 1600\n",
        "time_19 = 8350\n",
        "np.linspace(time_00, time_19, 10)"
      ]
    },
    {
      "cell_type": "markdown",
      "metadata": {
        "id": "XVZjIEcYdwZB"
      },
      "source": [
        "#### numpy random module\n",
        "    - seed : 랜덤의 설정값\n",
        "    - rand : 균등분포로 난수 생생\n",
        "    - randn : 정규분포로 난수 생성\n",
        "    - randint : 균등분포로 정수 생성\n",
        "    - shuffle : 섞기\n",
        "    - choice : 데이터를 특정 확률로 뽑기"
      ]
    },
    {
      "cell_type": "markdown",
      "metadata": {
        "id": "2jR47KfsdwZC"
      },
      "source": [
        "##### seed"
      ]
    },
    {
      "cell_type": "code",
      "execution_count": 27,
      "metadata": {
        "ExecuteTime": {
          "end_time": "2021-02-02T04:02:41.739869Z",
          "start_time": "2021-02-02T04:02:41.715938Z"
        },
        "colab": {
          "base_uri": "https://localhost:8080/"
        },
        "id": "af2Cf_rDdwZD",
        "outputId": "067b1512-19a2-4ccf-a509-2e57de0b864e"
      },
      "outputs": [
        {
          "output_type": "execute_result",
          "data": {
            "text/plain": [
              "(array([47, 22, 82, 19, 85, 15, 89, 74, 26, 11]),\n",
              " array([50, 25, 82, 32, 53, 92, 85, 17, 44, 59]),\n",
              " array([47, 22, 82, 19, 85, 15, 89, 74, 26, 11]))"
            ]
          },
          "metadata": {},
          "execution_count": 27
        }
      ],
      "source": [
        "np.random.seed(1) # arbitrary\n",
        "res1 = np.random.randint(10, 100, 10)\n",
        "\n",
        "np.random.seed(2)\n",
        "res2 = np.random.randint(10, 100, 10)\n",
        "\n",
        "np.random.seed(1)\n",
        "res3 = np.random.randint(10, 100, 10)\n",
        "\n",
        "res1, res2, res3"
      ]
    },
    {
      "cell_type": "markdown",
      "metadata": {
        "id": "dlVVyVhKdwZF"
      },
      "source": [
        "##### rand"
      ]
    },
    {
      "cell_type": "code",
      "execution_count": 28,
      "metadata": {
        "ExecuteTime": {
          "end_time": "2021-02-02T04:03:09.315915Z",
          "start_time": "2021-02-02T04:03:09.301950Z"
        },
        "colab": {
          "base_uri": "https://localhost:8080/"
        },
        "id": "ieQ_XhkLdwZG",
        "outputId": "0151f882-2d80-46a9-e92a-fee193649cb5"
      },
      "outputs": [
        {
          "output_type": "execute_result",
          "data": {
            "text/plain": [
              "array([0.18626021, 0.34556073, 0.39676747, 0.53881673, 0.41919451,\n",
              "       0.6852195 , 0.20445225, 0.87811744, 0.02738759, 0.67046751])"
            ]
          },
          "metadata": {},
          "execution_count": 28
        }
      ],
      "source": [
        "np.random.rand(10)"
      ]
    },
    {
      "cell_type": "code",
      "execution_count": 29,
      "metadata": {
        "ExecuteTime": {
          "end_time": "2021-02-02T04:03:14.372029Z",
          "start_time": "2021-02-02T04:03:14.354077Z"
        },
        "colab": {
          "base_uri": "https://localhost:8080/"
        },
        "id": "RuLVnKdNdwZI",
        "outputId": "fe526148-803e-49e8-e840-4d459bb134b6"
      },
      "outputs": [
        {
          "output_type": "execute_result",
          "data": {
            "text/plain": [
              "array([ 1.46210794, -2.06014071, -0.3224172 , -0.38405435,  1.13376944,\n",
              "       -1.09989127, -0.17242821, -0.87785842,  0.04221375,  0.58281521])"
            ]
          },
          "metadata": {},
          "execution_count": 29
        }
      ],
      "source": [
        "np.random.randn(10)"
      ]
    },
    {
      "cell_type": "code",
      "execution_count": 30,
      "metadata": {
        "ExecuteTime": {
          "end_time": "2021-02-02T04:03:53.774231Z",
          "start_time": "2021-02-02T04:03:53.757305Z"
        },
        "colab": {
          "base_uri": "https://localhost:8080/"
        },
        "id": "lchDc5pZdwZJ",
        "outputId": "4b84e878-586f-4265-f20c-9dc680a17520"
      },
      "outputs": [
        {
          "output_type": "execute_result",
          "data": {
            "text/plain": [
              "array([0.69187711, 0.31551563, 0.68650093, 0.83462567, 0.01828828,\n",
              "       0.75014431, 0.98886109, 0.74816565, 0.28044399, 0.78927933])"
            ]
          },
          "metadata": {},
          "execution_count": 30
        }
      ],
      "source": [
        "np.random.rand(10)"
      ]
    },
    {
      "cell_type": "markdown",
      "metadata": {
        "id": "mc3oK6TSdwZL"
      },
      "source": [
        "##### randn"
      ]
    },
    {
      "cell_type": "code",
      "execution_count": 31,
      "metadata": {
        "ExecuteTime": {
          "end_time": "2021-02-02T04:04:26.448528Z",
          "start_time": "2021-02-02T04:04:26.427612Z"
        },
        "colab": {
          "base_uri": "https://localhost:8080/"
        },
        "id": "5mO7gsLGdwZM",
        "outputId": "a3fec334-de16-4f25-e74e-c719d32b35aa"
      },
      "outputs": [
        {
          "output_type": "execute_result",
          "data": {
            "text/plain": [
              "array([-0.12289023, -0.93576943, -0.26788808,  0.53035547, -0.69166075,\n",
              "       -0.39675353, -0.6871727 , -0.84520564, -0.67124613, -0.0126646 ])"
            ]
          },
          "metadata": {},
          "execution_count": 31
        }
      ],
      "source": [
        "np.random.randn(10)"
      ]
    },
    {
      "cell_type": "markdown",
      "metadata": {
        "id": "BvNffdQWdwZO"
      },
      "source": [
        "##### randint"
      ]
    },
    {
      "cell_type": "code",
      "execution_count": 32,
      "metadata": {
        "ExecuteTime": {
          "end_time": "2021-02-02T04:16:06.671231Z",
          "start_time": "2021-02-02T04:16:06.653279Z"
        },
        "colab": {
          "base_uri": "https://localhost:8080/"
        },
        "id": "YgKdbwA1dwZQ",
        "outputId": "defb7db1-5fec-47e3-c7da-0a4342f864d9"
      },
      "outputs": [
        {
          "output_type": "execute_result",
          "data": {
            "text/plain": [
              "array([[8, 4, 1, 9],\n",
              "       [8, 8, 2, 2],\n",
              "       [4, 1, 9, 7],\n",
              "       [5, 6, 7, 3]])"
            ]
          },
          "metadata": {},
          "execution_count": 32
        }
      ],
      "source": [
        "x = np.random.randint(1, 10, (4, 4))\n",
        "x"
      ]
    },
    {
      "cell_type": "code",
      "execution_count": 33,
      "metadata": {
        "ExecuteTime": {
          "end_time": "2021-02-02T04:16:08.734725Z",
          "start_time": "2021-02-02T04:16:08.721764Z"
        },
        "colab": {
          "base_uri": "https://localhost:8080/"
        },
        "id": "pNdh0Sc6dwZR",
        "outputId": "9c5e2bde-c998-4576-809d-4749edef33ca"
      },
      "outputs": [
        {
          "output_type": "execute_result",
          "data": {
            "text/plain": [
              "array([[5, 6, 7, 3],\n",
              "       [4, 1, 9, 7],\n",
              "       [8, 8, 2, 2],\n",
              "       [8, 4, 1, 9]])"
            ]
          },
          "metadata": {},
          "execution_count": 33
        }
      ],
      "source": [
        "np.random.shuffle(x)\n",
        "x"
      ]
    },
    {
      "cell_type": "code",
      "source": [
        "arr = np.random.randint(0, 10, (3,3))\n",
        "arr"
      ],
      "metadata": {
        "colab": {
          "base_uri": "https://localhost:8080/"
        },
        "id": "0s4DuVcFfrWQ",
        "outputId": "08b57029-2190-4c56-d0dd-ce59d690a5e4"
      },
      "execution_count": 35,
      "outputs": [
        {
          "output_type": "execute_result",
          "data": {
            "text/plain": [
              "array([[7, 8, 4],\n",
              "       [4, 7, 7],\n",
              "       [4, 9, 0]])"
            ]
          },
          "metadata": {},
          "execution_count": 35
        }
      ]
    },
    {
      "cell_type": "code",
      "source": [
        "#np.any(arr > 5)\n",
        "\n",
        "# np.all(arr > 5)\n",
        "\n",
        "# np.all(arr < 10)\n",
        "\n",
        "# np.argmin(arr, axis=0)\n",
        "\n",
        "# np.argmax(arr, 1)\n",
        "\n",
        "# np.argsort(arr, axis=0)\n",
        "\n",
        "# arr[np.where(arr>5)]\n",
        "\n",
        "np.where(arr<5, 10, arr)"
      ],
      "metadata": {
        "colab": {
          "base_uri": "https://localhost:8080/"
        },
        "id": "L15DbIt6f4lE",
        "outputId": "7e72f930-52c1-44eb-a814-1037ddb9eff6"
      },
      "execution_count": 47,
      "outputs": [
        {
          "output_type": "execute_result",
          "data": {
            "text/plain": [
              "array([[ 7,  8, 10],\n",
              "       [10,  7,  7],\n",
              "       [10,  9, 10]])"
            ]
          },
          "metadata": {},
          "execution_count": 47
        }
      ]
    },
    {
      "cell_type": "code",
      "source": [
        "arr = np.random.randint(0, 10, (4,4))\n",
        "arr"
      ],
      "metadata": {
        "colab": {
          "base_uri": "https://localhost:8080/"
        },
        "id": "93dn5cCSf_eg",
        "outputId": "f4efd64c-ec50-493d-a889-ba7cb09804e6"
      },
      "execution_count": 48,
      "outputs": [
        {
          "output_type": "execute_result",
          "data": {
            "text/plain": [
              "array([[2, 0, 7, 1],\n",
              "       [7, 9, 8, 4],\n",
              "       [0, 1, 9, 8],\n",
              "       [2, 3, 1, 2]])"
            ]
          },
          "metadata": {},
          "execution_count": 48
        }
      ]
    },
    {
      "cell_type": "code",
      "source": [
        "# np.max(arr, axis=1)\n",
        "\n",
        "np.mean(arr , 0)"
      ],
      "metadata": {
        "colab": {
          "base_uri": "https://localhost:8080/"
        },
        "id": "4Oc5Go3JhBUR",
        "outputId": "aa0a72f6-492a-4be0-c07d-e1c55992b1bd"
      },
      "execution_count": 50,
      "outputs": [
        {
          "output_type": "execute_result",
          "data": {
            "text/plain": [
              "array([2.75, 3.25, 6.25, 3.75])"
            ]
          },
          "metadata": {},
          "execution_count": 50
        }
      ]
    },
    {
      "cell_type": "code",
      "source": [
        "arr = np.random.randint(0, 10, (2,4))\n",
        "arr"
      ],
      "metadata": {
        "colab": {
          "base_uri": "https://localhost:8080/"
        },
        "id": "piD6YSIrhDru",
        "outputId": "645bf443-c8c7-4596-f5d7-a183aa844228"
      },
      "execution_count": 52,
      "outputs": [
        {
          "output_type": "execute_result",
          "data": {
            "text/plain": [
              "array([[2, 7, 7, 0],\n",
              "       [6, 5, 1, 4]])"
            ]
          },
          "metadata": {},
          "execution_count": 52
        }
      ]
    },
    {
      "cell_type": "code",
      "source": [
        "arr1 = arr[..., np.newaxis]\n",
        "arr1.shape\n",
        "\n",
        "arr2 = np.squeeze(arr1, -1)\n",
        "arr2.shape\n",
        "\n",
        "arr3 = np.transpose(arr1, (2,1,0))\n",
        "arr3.shape, arr1.shape\n",
        "\n",
        "arr4 = arr1.reshape(1,4,2)\n",
        "\n",
        "arr5 = arr2.T\n",
        "arr5.shape"
      ],
      "metadata": {
        "colab": {
          "base_uri": "https://localhost:8080/"
        },
        "id": "mXi9WwAUhLz5",
        "outputId": "07cd9c7a-90a1-4da0-9033-73391b9ac782"
      },
      "execution_count": 57,
      "outputs": [
        {
          "output_type": "execute_result",
          "data": {
            "text/plain": [
              "(4, 2)"
            ]
          },
          "metadata": {},
          "execution_count": 57
        }
      ]
    },
    {
      "cell_type": "code",
      "source": [
        ""
      ],
      "metadata": {
        "id": "hSJUszDfhQGd"
      },
      "execution_count": null,
      "outputs": []
    }
  ],
  "metadata": {
    "hide_input": false,
    "kernelspec": {
      "display_name": "Python 3",
      "language": "python",
      "name": "python3"
    },
    "language_info": {
      "codemirror_mode": {
        "name": "ipython",
        "version": 3
      },
      "file_extension": ".py",
      "mimetype": "text/x-python",
      "name": "python",
      "nbconvert_exporter": "python",
      "pygments_lexer": "ipython3",
      "version": "3.8.5"
    },
    "toc": {
      "base_numbering": 1,
      "nav_menu": {},
      "number_sections": true,
      "sideBar": true,
      "skip_h1_title": false,
      "title_cell": "Table of Contents",
      "title_sidebar": "Contents",
      "toc_cell": false,
      "toc_position": {},
      "toc_section_display": true,
      "toc_window_display": false
    },
    "varInspector": {
      "cols": {
        "lenName": 16,
        "lenType": 16,
        "lenVar": 40
      },
      "kernels_config": {
        "python": {
          "delete_cmd_postfix": "",
          "delete_cmd_prefix": "del ",
          "library": "var_list.py",
          "varRefreshCmd": "print(var_dic_list())"
        },
        "r": {
          "delete_cmd_postfix": ") ",
          "delete_cmd_prefix": "rm(",
          "library": "var_list.r",
          "varRefreshCmd": "cat(var_dic_list()) "
        }
      },
      "types_to_exclude": [
        "module",
        "function",
        "builtin_function_or_method",
        "instance",
        "_Feature"
      ],
      "window_display": false
    },
    "colab": {
      "name": "lesson 03. numpy 3 - modules statistics, lin,logspace, random.ipynb",
      "provenance": [],
      "include_colab_link": true
    }
  },
  "nbformat": 4,
  "nbformat_minor": 0
}