{
  "cells": [
    {
      "cell_type": "markdown",
      "metadata": {
        "id": "view-in-github",
        "colab_type": "text"
      },
      "source": [
        "<a href=\"https://colab.research.google.com/github/27261626/test_project/blob/main/lesson_02_list_type.ipynb\" target=\"_parent\"><img src=\"https://colab.research.google.com/assets/colab-badge.svg\" alt=\"Open In Colab\"/></a>"
      ]
    },
    {
      "cell_type": "markdown",
      "metadata": {
        "id": "py_lXzkeg1-m"
      },
      "source": [
        "### 데이터타입 개념\n",
        "    1. 숫자\n",
        "    2. 문자\n",
        "    3. 리스트 []\n",
        "        - 순서가 있고 수정이 가능한 데이터 타입\n",
        "    4. 튜플(tuple) ()\n",
        "        - 순서가 있고 수정이 불가능한 데이터 타입\n",
        "    5. 사전(dict) {}\n",
        "        - 순서가 없고 키:값 쌍으로 구성된 데이터 타입"
      ]
    },
    {
      "cell_type": "markdown",
      "source": [
        ""
      ],
      "metadata": {
        "id": "dIXS1BtFazop"
      }
    },
    {
      "cell_type": "markdown",
      "metadata": {
        "id": "q2eFwuplg1-q"
      },
      "source": [
        "#### 숫자와 문자형\n"
      ]
    },
    {
      "cell_type": "code",
      "execution_count": 2,
      "metadata": {
        "id": "5MvPcZB4g1-r",
        "colab": {
          "base_uri": "https://localhost:8080/"
        },
        "outputId": "9ed083ca-e940-421c-fd3b-63ffd5695141"
      },
      "outputs": [
        {
          "output_type": "stream",
          "name": "stdout",
          "text": [
            "<class 'int'> 726 <class 'str'> birtday\n"
          ]
        }
      ],
      "source": [
        "a= 726\n",
        "b= \"birtday\"\n",
        "print(type(a),a,type(b),b)\n"
      ]
    },
    {
      "cell_type": "markdown",
      "metadata": {
        "id": "ucf_F5QXg1-r"
      },
      "source": [
        "#### list"
      ]
    },
    {
      "cell_type": "code",
      "execution_count": 6,
      "metadata": {
        "id": "pFiImYn8g1-s",
        "colab": {
          "base_uri": "https://localhost:8080/"
        },
        "outputId": "4806ea69-bc36-47e2-9893-654c2f664568"
      },
      "outputs": [
        {
          "output_type": "execute_result",
          "data": {
            "text/plain": [
              "(list, [True, 1, 2, '삼', [4, 'five'], 6, 0])"
            ]
          },
          "metadata": {},
          "execution_count": 6
        }
      ],
      "source": [
        "ls = [True,1,2,\"삼\",[4,\"five\"],6,0]\n",
        "type(ls),ls"
      ]
    },
    {
      "cell_type": "markdown",
      "metadata": {
        "id": "4yfwd6jXg1-s"
      },
      "source": [
        "##### offset index : 순서가 있는 데이터 타입에서는 해당 index(위치)를 사용할 수 있다\n",
        "    - index의 순서는 0부터 시작"
      ]
    },
    {
      "cell_type": "code",
      "execution_count": 7,
      "metadata": {
        "id": "qhsPeTGdg1-t",
        "colab": {
          "base_uri": "https://localhost:8080/"
        },
        "outputId": "8b936d4f-76f3-4450-e5ec-4f5100381394"
      },
      "outputs": [
        {
          "output_type": "execute_result",
          "data": {
            "text/plain": [
              "('삼', [1, 2, '삼'], [0, 6, [4, 'five'], '삼', 2, 1, True])"
            ]
          },
          "metadata": {},
          "execution_count": 7
        }
      ],
      "source": [
        "ls[3],ls[1:4],ls[::-1]"
      ]
    },
    {
      "cell_type": "markdown",
      "metadata": {
        "id": "KkeUEJW1g1-v"
      },
      "source": [
        "###\n",
        "\n",
        "    - append()"
      ]
    },
    {
      "cell_type": "code",
      "execution_count": 8,
      "metadata": {
        "id": "clIR0i88g1-v",
        "colab": {
          "base_uri": "https://localhost:8080/"
        },
        "outputId": "6a21647a-434a-4c4e-882f-e38080404cf3"
      },
      "outputs": [
        {
          "output_type": "execute_result",
          "data": {
            "text/plain": [
              "[2, 3, 7, 4, 9, 0]"
            ]
          },
          "metadata": {},
          "execution_count": 8
        }
      ],
      "source": [
        "# 리스트에 추가하는 함수\n",
        "ls =[2,3,7,4,9] #리스트생성\n",
        "ls.append(0) #가장 뒤에추가 \n",
        "ls"
      ]
    },
    {
      "cell_type": "markdown",
      "metadata": {
        "id": "8QmmVLsVg1-w"
      },
      "source": [
        "##### 정렬\n",
        "    sort()\n",
        "    - 오름차순/내림차순"
      ]
    },
    {
      "cell_type": "code",
      "execution_count": 11,
      "metadata": {
        "id": "HHqyF6bsg1-w",
        "colab": {
          "base_uri": "https://localhost:8080/"
        },
        "outputId": "cc03c83e-14b7-4633-c0fc-0b0d9480a72f"
      },
      "outputs": [
        {
          "output_type": "stream",
          "name": "stdout",
          "text": [
            "[9, 7, 4, 3, 2, 0]\n",
            "[0, 2, 3, 4, 7, 9]\n"
          ]
        }
      ],
      "source": [
        "ls.sort(reverse=True)\n",
        "print(ls)\n",
        "ls.sort(reverse=False)\n",
        "print(ls)"
      ]
    },
    {
      "cell_type": "markdown",
      "metadata": {
        "id": "vSloXl5ng1-x"
      },
      "source": [
        "#### 삭제(뽑기)\n",
        "    pop()\n",
        "        기본값 : 리스트 마지막 항목을 뽑아낸다\n",
        "    list.pop(index)\n",
        "        index를 입력하면 해당 index 순서에 있는 항목을 뽑아낸다\n",
        "        pop으로 뽑힌 데이터는 다른 변수에 저장이 가능\n",
        "        뽑힌 데이터는 list에서 삭제되어 있음\n"
      ]
    },
    {
      "cell_type": "code",
      "source": [
        "print(ls)\n",
        "print(ls,pop(1).ls)"
      ],
      "metadata": {
        "colab": {
          "base_uri": "https://localhost:8080/",
          "height": 211
        },
        "id": "qIy1Xsezbx5A",
        "outputId": "185414c6-f2a1-40f5-9fcc-b8a8d3780a70"
      },
      "execution_count": 14,
      "outputs": [
        {
          "output_type": "stream",
          "name": "stdout",
          "text": [
            "[0, 2, 3, 4, 7, 9]\n"
          ]
        },
        {
          "output_type": "error",
          "ename": "NameError",
          "evalue": "ignored",
          "traceback": [
            "\u001b[0;31m---------------------------------------------------------------------------\u001b[0m",
            "\u001b[0;31mNameError\u001b[0m                                 Traceback (most recent call last)",
            "\u001b[0;32m<ipython-input-14-f3ea85b87b69>\u001b[0m in \u001b[0;36m<module>\u001b[0;34m()\u001b[0m\n\u001b[1;32m      1\u001b[0m \u001b[0mprint\u001b[0m\u001b[0;34m(\u001b[0m\u001b[0mls\u001b[0m\u001b[0;34m)\u001b[0m\u001b[0;34m\u001b[0m\u001b[0;34m\u001b[0m\u001b[0m\n\u001b[0;32m----> 2\u001b[0;31m \u001b[0mprint\u001b[0m\u001b[0;34m(\u001b[0m\u001b[0mls\u001b[0m\u001b[0;34m,\u001b[0m\u001b[0mpop\u001b[0m\u001b[0;34m(\u001b[0m\u001b[0;36m1\u001b[0m\u001b[0;34m)\u001b[0m\u001b[0;34m.\u001b[0m\u001b[0mls\u001b[0m\u001b[0;34m)\u001b[0m\u001b[0;34m\u001b[0m\u001b[0;34m\u001b[0m\u001b[0m\n\u001b[0m",
            "\u001b[0;31mNameError\u001b[0m: name 'pop' is not defined"
          ]
        }
      ]
    },
    {
      "cell_type": "code",
      "execution_count": 12,
      "metadata": {
        "id": "r_yY9GjPg1-x",
        "colab": {
          "base_uri": "https://localhost:8080/",
          "height": 211
        },
        "outputId": "bd248b53-9f33-497a-b593-e581897a2099"
      },
      "outputs": [
        {
          "output_type": "stream",
          "name": "stdout",
          "text": [
            "[0, 2, 3, 4, 7, 9]\n"
          ]
        },
        {
          "output_type": "error",
          "ename": "NameError",
          "evalue": "ignored",
          "traceback": [
            "\u001b[0;31m---------------------------------------------------------------------------\u001b[0m",
            "\u001b[0;31mNameError\u001b[0m                                 Traceback (most recent call last)",
            "\u001b[0;32m<ipython-input-12-71b1f15ac814>\u001b[0m in \u001b[0;36m<module>\u001b[0;34m()\u001b[0m\n\u001b[1;32m      1\u001b[0m \u001b[0mprint\u001b[0m\u001b[0;34m(\u001b[0m\u001b[0mls\u001b[0m\u001b[0;34m)\u001b[0m\u001b[0;34m\u001b[0m\u001b[0;34m\u001b[0m\u001b[0m\n\u001b[0;32m----> 2\u001b[0;31m \u001b[0mprint\u001b[0m\u001b[0;34m(\u001b[0m\u001b[0mls\u001b[0m\u001b[0;34m,\u001b[0m\u001b[0mpop\u001b[0m\u001b[0;34m(\u001b[0m\u001b[0;34m)\u001b[0m\u001b[0;34m.\u001b[0m\u001b[0mls\u001b[0m\u001b[0;34m)\u001b[0m\u001b[0;34m\u001b[0m\u001b[0;34m\u001b[0m\u001b[0m\n\u001b[0m",
            "\u001b[0;31mNameError\u001b[0m: name 'pop' is not defined"
          ]
        }
      ],
      "source": [
        "[] b = ls.pop(0)\n",
        "b. ls"
      ]
    },
    {
      "cell_type": "markdown",
      "source": [
        "#### 뽑아내지 않고 삭제하는 방법\n",
        "    del list[index]"
      ],
      "metadata": {
        "id": "CmcIM0CShihO"
      }
    },
    {
      "cell_type": "code",
      "execution_count": 15,
      "metadata": {
        "id": "XEosj1kgg1-y",
        "colab": {
          "base_uri": "https://localhost:8080/"
        },
        "outputId": "ada0fa16-6b45-4c6d-aa2d-236a5a0a944b"
      },
      "outputs": [
        {
          "output_type": "execute_result",
          "data": {
            "text/plain": [
              "[0, 3, 4, 7, 9]"
            ]
          },
          "metadata": {},
          "execution_count": 15
        }
      ],
      "source": [
        "del ls[1]\n",
        "ls"
      ]
    },
    {
      "cell_type": "markdown",
      "metadata": {
        "id": "v2oFn4cPg1-y"
      },
      "source": [
        "#### 리스트 타입의 복사\n",
        "    copy()\n",
        "\n",
        "- 얕은 복사(shallow copy) <br/>\n",
        "  메모리 주소만 복사한 것으로 새로운 값을 적용하면 원래 메모리 참조 값을 가져온다.\n",
        "\n",
        "- 깊은 복사(deep copy) <br/>\n",
        "  copy.deepcopy 메소드로 사용 가능하다.\n",
        "  새로운 메모리 값을 사용하므로 다른 주소 값이 할당된다.\n",
        "\n",
        "-얕은 복사와 깊은 복사의 구분은 list, set, dictionary와 같은 가변 객체에 해당하여 적용한다."
      ]
    },
    {
      "cell_type": "code",
      "execution_count": null,
      "metadata": {
        "id": "QmnrbDXng1-z"
      },
      "outputs": [],
      "source": [
        "lst =[1,2,3]\n",
        "ls2 =ls1 #fs2는 ls1의주소값을 복사\n",
        "ls1[2] =5\n",
        "ls1 , ls2"
      ]
    },
    {
      "cell_type": "code",
      "execution_count": null,
      "metadata": {
        "id": "zx8PXNOXg1-z"
      },
      "outputs": [],
      "source": [
        "import copy\n",
        "ls3 = copy.deepopy(ls1)\n",
        "ls1[2]=6\n",
        "ls2,ls3"
      ]
    },
    {
      "cell_type": "code",
      "source": [
        ""
      ],
      "metadata": {
        "id": "Mh1tullrc-KE"
      },
      "execution_count": null,
      "outputs": []
    }
  ],
  "metadata": {
    "kernelspec": {
      "display_name": "Python 3",
      "language": "python",
      "name": "python3"
    },
    "language_info": {
      "codemirror_mode": {
        "name": "ipython",
        "version": 3
      },
      "file_extension": ".py",
      "mimetype": "text/x-python",
      "name": "python",
      "nbconvert_exporter": "python",
      "pygments_lexer": "ipython3",
      "version": "3.8.5"
    },
    "toc": {
      "base_numbering": 1,
      "nav_menu": {},
      "number_sections": true,
      "sideBar": true,
      "skip_h1_title": false,
      "title_cell": "Table of Contents",
      "title_sidebar": "Contents",
      "toc_cell": false,
      "toc_position": {},
      "toc_section_display": true,
      "toc_window_display": false
    },
    "colab": {
      "name": "lesson 02. list type.ipynb",
      "provenance": [],
      "collapsed_sections": [],
      "include_colab_link": true
    }
  },
  "nbformat": 4,
  "nbformat_minor": 0
}